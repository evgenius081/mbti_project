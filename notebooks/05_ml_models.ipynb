{
 "cells": [
  {
   "cell_type": "markdown",
   "metadata": {},
   "source": [
    "# (MBTI) Myers-Briggs Personality Type Prediction\n",
    "\n",
    "* Extroversion vs. Introversion\n",
    "    * I - 0\n",
    "    * E - 1 \n",
    "    \n",
    "* Sensing vs. Intuition \n",
    "    * N - 0 \n",
    "    * S - 1\n",
    "    \n",
    "* Thinking vs. Feeling\n",
    "    * F - 0\n",
    "    * T - 1\n",
    "    \n",
    "* Judging vs. Perceiving\n",
    "    * P - 0\n",
    "    * J - 1 \n",
    "    \n",
    "## MACHINE LEARNING - IMPLEMENTING & COMPARING DIFFERENT CLASSIFIERS  "
   ]
  },
  {
   "cell_type": "code",
   "execution_count": 7,
   "metadata": {
    "ExecuteTime": {
     "start_time": "2023-04-19T15:30:12.881421Z",
     "end_time": "2023-04-19T15:30:14.235290Z"
    }
   },
   "outputs": [],
   "source": [
    "# importing dependencies here\n",
    "import numpy as np\n",
    "import pandas as pd\n",
    "import os\n",
    "\n",
    "# visualizations\n",
    "import matplotlib.pyplot as plt\n",
    "\n",
    "# data stratifying and splitting\n",
    "from sklearn.model_selection import StratifiedKFold\n",
    "from sklearn.model_selection import train_test_split\n",
    "\n",
    "# preprocessing\n",
    "from sklearn.feature_extraction.text import TfidfVectorizer\n",
    "from sklearn.feature_extraction.text import CountVectorizer\n",
    "from sklearn.preprocessing import MinMaxScaler\n",
    "from sklearn.pipeline import make_pipeline\n",
    "from sklearn.feature_selection import f_classif\n",
    "from sklearn.feature_selection import SelectKBest\n",
    "from sklearn.compose import ColumnTransformer\n",
    "\n",
    "# class imbalance\n",
    "from imblearn.pipeline import make_pipeline as imb_make_pipeline\n",
    "from imblearn.under_sampling import RandomUnderSampler\n",
    "\n",
    "# algorithms/models\n",
    "from sklearn.linear_model import LogisticRegression\n",
    "from sklearn.linear_model import LogisticRegressionCV\n",
    "from sklearn.svm import LinearSVC, SVC\n",
    "from sklearn.naive_bayes import MultinomialNB\n",
    "from sklearn.ensemble import RandomForestClassifier\n",
    "\n",
    "# model evaluation\n",
    "from imblearn.metrics import classification_report_imbalanced\n",
    "from imblearn.metrics import geometric_mean_score\n",
    "from sklearn.metrics import average_precision_score\n",
    "from sklearn.metrics import roc_auc_score\n",
    "\n",
    "# performance check\n",
    "import time\n",
    "import warnings\n",
    "\n",
    "warnings.filterwarnings(\"ignore\")\n",
    "\n",
    "# sparse to dense\n",
    "from sklearn.base import TransformerMixin\n",
    "\n",
    "\n",
    "class DenseTransformer(TransformerMixin):\n",
    "    def fit(self, X, y=None, **fit_params):\n",
    "        return self\n",
    "\n",
    "    def transform(self, X, y=None, **fit_params):\n",
    "        return X.todense()\n",
    "\n",
    "\n",
    "# saving the model\n",
    "from joblib import dump"
   ]
  },
  {
   "cell_type": "code",
   "execution_count": 8,
   "metadata": {
    "ExecuteTime": {
     "start_time": "2023-04-19T15:30:15.100283Z",
     "end_time": "2023-04-19T15:30:30.396835Z"
    }
   },
   "outputs": [],
   "source": [
    "# reading the final dataset\n",
    "path_to_csv = os.path.join(\"..\", \"data\", \"clean_data_3.csv\")\n",
    "personality_data = pd.read_csv(path_to_csv)"
   ]
  },
  {
   "cell_type": "code",
   "execution_count": 9,
   "metadata": {
    "ExecuteTime": {
     "start_time": "2023-04-19T15:30:30.400352Z",
     "end_time": "2023-04-19T15:30:30.481349Z"
    }
   },
   "outputs": [
    {
     "data": {
      "text/plain": "   type  is_Extrovert  is_Sensing  is_Thinking  is_Judging   \n0  INTJ             0           0            1           1  \\\n1  INTP             0           0            1           0   \n\n                                               posts   \n0  'Don’t peg your rate low, peg it high. An appe...  \\\n1  '...you get Kid Rock.|||Now it is. Plural: 2sh...   \n\n                                         clean_posts  compound_sentiment   \n0   peg rate low  peg high  appeal expertise want...             0.99990  \\\n1      get kid rock   plural   shy happened skim ...             0.99995   \n\n   pos_sentiment  neg_sentiment  ...    em colons emojis  word_count   \n0       0.332011       0.098166  ...  0.08   0.16    0.0       56.22  \\\n1       0.312169       0.088457  ...  0.20   2.04    0.0      136.48   \n\n   unique_words  post_length_var  upper  link_count  ellipses  img_count  \n0         24.66      6718.126848   2.06         0.0      0.04        0.0  \n1         48.64     15882.597104   6.98         0.0      0.34        0.0  \n\n[2 rows x 124 columns]",
      "text/html": "<div>\n<style scoped>\n    .dataframe tbody tr th:only-of-type {\n        vertical-align: middle;\n    }\n\n    .dataframe tbody tr th {\n        vertical-align: top;\n    }\n\n    .dataframe thead th {\n        text-align: right;\n    }\n</style>\n<table border=\"1\" class=\"dataframe\">\n  <thead>\n    <tr style=\"text-align: right;\">\n      <th></th>\n      <th>type</th>\n      <th>is_Extrovert</th>\n      <th>is_Sensing</th>\n      <th>is_Thinking</th>\n      <th>is_Judging</th>\n      <th>posts</th>\n      <th>clean_posts</th>\n      <th>compound_sentiment</th>\n      <th>pos_sentiment</th>\n      <th>neg_sentiment</th>\n      <th>...</th>\n      <th>em</th>\n      <th>colons</th>\n      <th>emojis</th>\n      <th>word_count</th>\n      <th>unique_words</th>\n      <th>post_length_var</th>\n      <th>upper</th>\n      <th>link_count</th>\n      <th>ellipses</th>\n      <th>img_count</th>\n    </tr>\n  </thead>\n  <tbody>\n    <tr>\n      <th>0</th>\n      <td>INTJ</td>\n      <td>0</td>\n      <td>0</td>\n      <td>1</td>\n      <td>1</td>\n      <td>'Don’t peg your rate low, peg it high. An appe...</td>\n      <td>peg rate low  peg high  appeal expertise want...</td>\n      <td>0.99990</td>\n      <td>0.332011</td>\n      <td>0.098166</td>\n      <td>...</td>\n      <td>0.08</td>\n      <td>0.16</td>\n      <td>0.0</td>\n      <td>56.22</td>\n      <td>24.66</td>\n      <td>6718.126848</td>\n      <td>2.06</td>\n      <td>0.0</td>\n      <td>0.04</td>\n      <td>0.0</td>\n    </tr>\n    <tr>\n      <th>1</th>\n      <td>INTP</td>\n      <td>0</td>\n      <td>0</td>\n      <td>1</td>\n      <td>0</td>\n      <td>'...you get Kid Rock.|||Now it is. Plural: 2sh...</td>\n      <td>get kid rock   plural   shy happened skim ...</td>\n      <td>0.99995</td>\n      <td>0.312169</td>\n      <td>0.088457</td>\n      <td>...</td>\n      <td>0.20</td>\n      <td>2.04</td>\n      <td>0.0</td>\n      <td>136.48</td>\n      <td>48.64</td>\n      <td>15882.597104</td>\n      <td>6.98</td>\n      <td>0.0</td>\n      <td>0.34</td>\n      <td>0.0</td>\n    </tr>\n  </tbody>\n</table>\n<p>2 rows × 124 columns</p>\n</div>"
     },
     "execution_count": 9,
     "metadata": {},
     "output_type": "execute_result"
    }
   ],
   "source": [
    "# checking top records\n",
    "personality_data.head(2)"
   ]
  },
  {
   "cell_type": "markdown",
   "metadata": {},
   "source": [
    "### Setting predictors and target variable\n"
   ]
  },
  {
   "cell_type": "code",
   "execution_count": 10,
   "metadata": {
    "ExecuteTime": {
     "start_time": "2023-04-19T15:30:30.441455Z",
     "end_time": "2023-04-19T15:30:30.482882Z"
    }
   },
   "outputs": [
    {
     "name": "stdout",
     "output_type": "stream",
     "text": [
      "(3933, 22)\n",
      "(3933, 4)\n"
     ]
    }
   ],
   "source": [
    "# setting X to clean_posts, compound sentiment score, pos tags and various other counts\n",
    "X = personality_data[\n",
    "    [\n",
    "        \"clean_posts\",\n",
    "        \"compound_sentiment\",\n",
    "        \"ADJ_avg\",\n",
    "        \"ADP_avg\",\n",
    "        \"ADV_avg\",\n",
    "        \"CONJ_avg\",\n",
    "        \"DET_avg\",\n",
    "        \"NOUN_avg\",\n",
    "        \"NUM_avg\",\n",
    "        \"PRT_avg\",\n",
    "        \"PRON_avg\",\n",
    "        \"VERB_avg\",\n",
    "        \"qm\",\n",
    "        \"em\",\n",
    "        \"colons\",\n",
    "        \"emojis\",\n",
    "        \"word_count\",\n",
    "        \"unique_words\",\n",
    "        \"upper\",\n",
    "        \"link_count\",\n",
    "        \"ellipses\",\n",
    "        \"img_count\",\n",
    "    ]\n",
    "]\n",
    "\n",
    "# setting y to four target classes -> is_Extrovert, is_Sensing, is_Thinking, is_Judging\n",
    "y = personality_data.iloc[:, 1:5]\n",
    "\n",
    "# ensuring that X and y row count matches\n",
    "print(X.shape)\n",
    "print(y.shape)"
   ]
  },
  {
   "cell_type": "markdown",
   "metadata": {},
   "source": [
    "### Creating a list of words (other than the stop words) to be dropped to improve model performanace"
   ]
  },
  {
   "cell_type": "code",
   "execution_count": 11,
   "metadata": {
    "ExecuteTime": {
     "start_time": "2023-04-19T15:30:30.452708Z",
     "end_time": "2023-04-19T15:30:30.482882Z"
    }
   },
   "outputs": [],
   "source": [
    "additional_stopwords = [\n",
    "    \"hey\",\n",
    "    \"hello\",\n",
    "    \"briggs\",\n",
    "    \"cat\",\n",
    "    \"car\",\n",
    "    \"mbti\",\n",
    "    \"soup\",\n",
    "    \"tea\",\n",
    "    \"sport\",\n",
    "    \"snow\",\n",
    "    \"christmas\",\n",
    "]"
   ]
  },
  {
   "cell_type": "markdown",
   "metadata": {},
   "source": [
    "### Setting up preprocessor for vectorization and selecting best counts and scores"
   ]
  },
  {
   "cell_type": "code",
   "execution_count": 12,
   "metadata": {
    "ExecuteTime": {
     "start_time": "2023-04-19T15:30:30.461189Z",
     "end_time": "2023-04-19T15:30:30.554610Z"
    }
   },
   "outputs": [],
   "source": [
    "# preprocessing steps for selecting best k columns/features from counts & scores and for vectorizing words\n",
    "\n",
    "counts_n_scores = [\n",
    "    \"compound_sentiment\",\n",
    "    \"ADJ_avg\",\n",
    "    \"ADP_avg\",\n",
    "    \"ADV_avg\",\n",
    "    \"CONJ_avg\",\n",
    "    \"DET_avg\",\n",
    "    \"NOUN_avg\",\n",
    "    \"NUM_avg\",\n",
    "    \"PRT_avg\",\n",
    "    \"PRON_avg\",\n",
    "    \"VERB_avg\",\n",
    "    \"qm\",\n",
    "    \"em\",\n",
    "    \"colons\",\n",
    "    \"emojis\",\n",
    "    \"word_count\",\n",
    "    \"unique_words\",\n",
    "    \"upper\",\n",
    "    \"link_count\",\n",
    "    \"ellipses\",\n",
    "    \"img_count\",\n",
    "]\n",
    "\n",
    "# for selecting k best features from features other than words\n",
    "best_k_features = make_pipeline(MinMaxScaler(), SelectKBest(f_classif, k=10))\n",
    "\n",
    "# setting up preprocessing for TF-IDF vectorizer\n",
    "preprocesser_tf = ColumnTransformer(\n",
    "    transformers=[\n",
    "        (\n",
    "            \"tfidf\",\n",
    "            TfidfVectorizer(min_df=25, max_df=0.85, stop_words=additional_stopwords),\n",
    "            \"clean_posts\",\n",
    "        ),\n",
    "        (\"selectbest\", best_k_features, counts_n_scores),\n",
    "    ],\n",
    "    remainder=\"passthrough\",\n",
    ")\n",
    "\n",
    "# setting up preprocessing for COUNT vectorizer\n",
    "preprocesser_ct = ColumnTransformer(\n",
    "    transformers=[\n",
    "        (\n",
    "            \"ct_vect\",\n",
    "            CountVectorizer(min_df=25, max_df=0.85, stop_words=additional_stopwords),\n",
    "            \"clean_posts\",\n",
    "        ),\n",
    "        (\"selectbest\", best_k_features, counts_n_scores),\n",
    "    ],\n",
    "    remainder=\"passthrough\",\n",
    ")"
   ]
  },
  {
   "cell_type": "markdown",
   "metadata": {},
   "source": [
    "### Modelling"
   ]
  },
  {
   "cell_type": "code",
   "execution_count": 13,
   "metadata": {
    "ExecuteTime": {
     "start_time": "2023-04-19T15:30:31.531072Z",
     "end_time": "2023-04-19T15:30:31.594317Z"
    }
   },
   "outputs": [],
   "source": [
    "# setting up the personality dictionary for printing scores for each class\n",
    "mbti_type = {\n",
    "    \"is_Extrovert\": \"Extrovert vs Introvert\",\n",
    "    \"is_Sensing\": \"Sensing vs Intuition\",\n",
    "    \"is_Thinking\": \"Thinking vs Feeling\",\n",
    "    \"is_Judging\": \"Judging vs Perceiving\",\n",
    "}\n",
    "\n",
    "# function to build the model for predicting each of the 4 target classes\n",
    "def build_model(model, X, target, vectorizer_name):\n",
    "\n",
    "    for col in target.columns:\n",
    "\n",
    "        print(f\"\\n{mbti_type[col]}\")\n",
    "        target = y[col]\n",
    "\n",
    "        X_train, X_test, y_train, y_test = train_test_split(\n",
    "            X, target, test_size=0.2, random_state=42, stratify=target\n",
    "        )\n",
    "\n",
    "        # model training\n",
    "        model.fit(X_train, y_train)\n",
    "\n",
    "        # y_hat\n",
    "        y_pred = model.predict(X_test)\n",
    "\n",
    "        # y_probability\n",
    "        y_proba = model.predict_proba(X_test)[:, 1]\n",
    "\n",
    "        # precision recall score\n",
    "        average_precision = average_precision_score(y_test, y_proba)\n",
    "\n",
    "        # model evaluation\n",
    "        print(\n",
    "            f\"Geometric Mean Score: {geometric_mean_score(y_test, y_pred, average='weighted'):.2f}\"\n",
    "        )\n",
    "        print(f\"ROC-AUC Score: {roc_auc_score(y_test, y_proba):.2f}\")\n",
    "        print(f\"Average Precision-Recall Score: {average_precision:.2f}\")\n",
    "        print(classification_report_imbalanced(y_test, y_pred))\n"
   ]
  },
  {
   "cell_type": "markdown",
   "metadata": {},
   "source": [
    "### TF-IDF Logistic Regression"
   ]
  },
  {
   "cell_type": "code",
   "execution_count": 8,
   "metadata": {
    "ExecuteTime": {
     "start_time": "2023-04-18T20:36:17.596428Z",
     "end_time": "2023-04-18T20:39:51.775829Z"
    }
   },
   "outputs": [
    {
     "name": "stdout",
     "output_type": "stream",
     "text": [
      "\n",
      "Extrovert vs Introvert\n",
      "Geometric Mean Score: 0.65\n",
      "ROC-AUC Score: 0.68\n",
      "Average Precision-Recall Score: 0.56\n",
      "                   pre       rec       spe        f1       geo       iba       sup\n",
      "\n",
      "          0       0.75      0.71      0.59      0.73      0.65      0.43       498\n",
      "          1       0.54      0.59      0.71      0.57      0.65      0.42       289\n",
      "\n",
      "avg / total       0.67      0.67      0.63      0.67      0.65      0.42       787\n",
      "\n",
      "\n",
      "Sensing vs Intuition\n",
      "Geometric Mean Score: 0.76\n",
      "ROC-AUC Score: 0.82\n",
      "Average Precision-Recall Score: 0.70\n",
      "                   pre       rec       spe        f1       geo       iba       sup\n",
      "\n",
      "          0       0.88      0.80      0.72      0.84      0.76      0.58       563\n",
      "          1       0.59      0.72      0.80      0.65      0.76      0.57       224\n",
      "\n",
      "avg / total       0.80      0.78      0.74      0.79      0.76      0.58       787\n",
      "\n",
      "\n",
      "Thinking vs Feeling\n",
      "Geometric Mean Score: 0.66\n",
      "ROC-AUC Score: 0.72\n",
      "Average Precision-Recall Score: 0.74\n",
      "                   pre       rec       spe        f1       geo       iba       sup\n",
      "\n",
      "          0       0.61      0.61      0.72      0.61      0.66      0.43       336\n",
      "          1       0.71      0.72      0.61      0.71      0.66      0.44       451\n",
      "\n",
      "avg / total       0.67      0.67      0.65      0.67      0.66      0.44       787\n",
      "\n",
      "\n",
      "Judging vs Perceiving\n",
      "Geometric Mean Score: 0.64\n",
      "ROC-AUC Score: 0.69\n",
      "Average Precision-Recall Score: 0.63\n",
      "                   pre       rec       spe        f1       geo       iba       sup\n",
      "\n",
      "          0       0.70      0.65      0.63      0.67      0.64      0.41       453\n",
      "          1       0.57      0.63      0.65      0.60      0.64      0.41       334\n",
      "\n",
      "avg / total       0.64      0.64      0.64      0.64      0.64      0.41       787\n",
      "\n",
      "CPU times: total: 41.4 s\n",
      "Wall time: 3min 34s\n"
     ]
    }
   ],
   "source": [
    "%%time\n",
    "\n",
    "tfidf_logistic_regression = imb_make_pipeline(\n",
    "    preprocesser_tf, RandomUnderSampler(), LogisticRegressionCV()\n",
    ")\n",
    "build_model(tfidf_logistic_regression, X, y, \"tfidf\")"
   ]
  },
  {
   "cell_type": "markdown",
   "metadata": {},
   "source": [
    "### Count Vectorized Logistic Regression"
   ]
  },
  {
   "cell_type": "code",
   "execution_count": 9,
   "metadata": {
    "ExecuteTime": {
     "start_time": "2023-04-18T20:39:51.783529Z",
     "end_time": "2023-04-18T20:46:04.267824Z"
    }
   },
   "outputs": [
    {
     "name": "stdout",
     "output_type": "stream",
     "text": [
      "\n",
      "Extrovert vs Introvert\n",
      "Geometric Mean Score: 0.65\n",
      "ROC-AUC Score: 0.70\n",
      "Average Precision-Recall Score: 0.57\n",
      "                   pre       rec       spe        f1       geo       iba       sup\n",
      "\n",
      "          0       0.74      0.78      0.52      0.76      0.64      0.41       498\n",
      "          1       0.58      0.52      0.78      0.55      0.64      0.39       289\n",
      "\n",
      "avg / total       0.68      0.68      0.61      0.68      0.64      0.41       787\n",
      "\n",
      "\n",
      "Sensing vs Intuition\n",
      "Geometric Mean Score: 0.75\n",
      "ROC-AUC Score: 0.80\n",
      "Average Precision-Recall Score: 0.65\n",
      "                   pre       rec       spe        f1       geo       iba       sup\n",
      "\n",
      "          0       0.87      0.81      0.70      0.84      0.75      0.57       563\n",
      "          1       0.59      0.70      0.81      0.64      0.75      0.56       224\n",
      "\n",
      "avg / total       0.79      0.78      0.73      0.78      0.75      0.57       787\n",
      "\n",
      "\n",
      "Thinking vs Feeling\n",
      "Geometric Mean Score: 0.65\n",
      "ROC-AUC Score: 0.70\n",
      "Average Precision-Recall Score: 0.73\n",
      "                   pre       rec       spe        f1       geo       iba       sup\n",
      "\n",
      "          0       0.62      0.56      0.75      0.59      0.65      0.41       336\n",
      "          1       0.69      0.75      0.56      0.72      0.65      0.43       451\n",
      "\n",
      "avg / total       0.66      0.67      0.64      0.66      0.65      0.42       787\n",
      "\n",
      "\n",
      "Judging vs Perceiving\n",
      "Geometric Mean Score: 0.64\n",
      "ROC-AUC Score: 0.68\n",
      "Average Precision-Recall Score: 0.62\n",
      "                   pre       rec       spe        f1       geo       iba       sup\n",
      "\n",
      "          0       0.68      0.74      0.54      0.71      0.63      0.40       453\n",
      "          1       0.60      0.54      0.74      0.57      0.63      0.39       334\n",
      "\n",
      "avg / total       0.65      0.65      0.62      0.65      0.63      0.40       787\n",
      "\n",
      "CPU times: total: 1min 10s\n",
      "Wall time: 6min 12s\n"
     ]
    }
   ],
   "source": [
    "%%time\n",
    "ct_logistic_regression = imb_make_pipeline(\n",
    "    preprocesser_ct, RandomUnderSampler(), LogisticRegressionCV()\n",
    ")\n",
    "build_model(ct_logistic_regression, X, y, \"ct_vect\")"
   ]
  },
  {
   "cell_type": "markdown",
   "metadata": {},
   "source": [
    "### TF-IDF Logistic Lasso"
   ]
  },
  {
   "cell_type": "code",
   "execution_count": 10,
   "metadata": {
    "ExecuteTime": {
     "start_time": "2023-04-18T20:46:04.273082Z",
     "end_time": "2023-04-18T21:04:10.811455Z"
    }
   },
   "outputs": [
    {
     "name": "stdout",
     "output_type": "stream",
     "text": [
      "\n",
      "Extrovert vs Introvert\n",
      "Geometric Mean Score: 0.62\n",
      "ROC-AUC Score: 0.68\n",
      "Average Precision-Recall Score: 0.56\n",
      "                   pre       rec       spe        f1       geo       iba       sup\n",
      "\n",
      "          0       0.73      0.64      0.60      0.68      0.62      0.38       498\n",
      "          1       0.49      0.60      0.64      0.54      0.62      0.38       289\n",
      "\n",
      "avg / total       0.64      0.62      0.61      0.63      0.62      0.38       787\n",
      "\n",
      "\n",
      "Sensing vs Intuition\n",
      "Geometric Mean Score: 0.74\n",
      "ROC-AUC Score: 0.82\n",
      "Average Precision-Recall Score: 0.69\n",
      "                   pre       rec       spe        f1       geo       iba       sup\n",
      "\n",
      "          0       0.87      0.77      0.71      0.82      0.74      0.56       563\n",
      "          1       0.56      0.71      0.77      0.63      0.74      0.55       224\n",
      "\n",
      "avg / total       0.78      0.76      0.73      0.76      0.74      0.55       787\n",
      "\n",
      "\n",
      "Thinking vs Feeling\n",
      "Geometric Mean Score: 0.66\n",
      "ROC-AUC Score: 0.71\n",
      "Average Precision-Recall Score: 0.73\n",
      "                   pre       rec       spe        f1       geo       iba       sup\n",
      "\n",
      "          0       0.61      0.62      0.71      0.61      0.66      0.43       336\n",
      "          1       0.71      0.71      0.62      0.71      0.66      0.44       451\n",
      "\n",
      "avg / total       0.67      0.67      0.66      0.67      0.66      0.44       787\n",
      "\n",
      "\n",
      "Judging vs Perceiving\n",
      "Geometric Mean Score: 0.63\n",
      "ROC-AUC Score: 0.68\n",
      "Average Precision-Recall Score: 0.61\n",
      "                   pre       rec       spe        f1       geo       iba       sup\n",
      "\n",
      "          0       0.70      0.62      0.64      0.65      0.63      0.39       453\n",
      "          1       0.55      0.64      0.62      0.59      0.63      0.39       334\n",
      "\n",
      "avg / total       0.64      0.63      0.63      0.63      0.63      0.39       787\n",
      "\n",
      "CPU times: total: 8min 35s\n",
      "Wall time: 18min 6s\n"
     ]
    }
   ],
   "source": [
    "%%time\n",
    "tfidf_logistic_regression_lasso = imb_make_pipeline(\n",
    "    preprocesser_tf, RandomUnderSampler(), LogisticRegressionCV(penalty='l1', solver='saga' )\n",
    ")\n",
    "build_model(tfidf_logistic_regression_lasso, X, y, \"tfidf\")"
   ]
  },
  {
   "cell_type": "markdown",
   "metadata": {},
   "source": [
    "### Count Vectorized Logistic Lasso"
   ]
  },
  {
   "cell_type": "code",
   "execution_count": 11,
   "metadata": {
    "ExecuteTime": {
     "start_time": "2023-04-18T21:04:10.815878Z",
     "end_time": "2023-04-18T21:33:12.938059Z"
    }
   },
   "outputs": [
    {
     "name": "stdout",
     "output_type": "stream",
     "text": [
      "\n",
      "Extrovert vs Introvert\n",
      "Geometric Mean Score: 0.52\n",
      "ROC-AUC Score: 0.67\n",
      "Average Precision-Recall Score: 0.53\n",
      "                   pre       rec       spe        f1       geo       iba       sup\n",
      "\n",
      "          0       0.86      0.09      0.98      0.16      0.29      0.08       498\n",
      "          1       0.38      0.98      0.09      0.55      0.29      0.09       289\n",
      "\n",
      "avg / total       0.68      0.41      0.65      0.30      0.29      0.08       787\n",
      "\n",
      "\n",
      "Sensing vs Intuition\n",
      "Geometric Mean Score: 0.46\n",
      "ROC-AUC Score: 0.74\n",
      "Average Precision-Recall Score: 0.55\n",
      "                   pre       rec       spe        f1       geo       iba       sup\n",
      "\n",
      "          0       1.00      0.01      1.00      0.01      0.08      0.01       563\n",
      "          1       0.29      1.00      0.01      0.44      0.08      0.01       224\n",
      "\n",
      "avg / total       0.80      0.29      0.72      0.14      0.08      0.01       787\n",
      "\n",
      "\n",
      "Thinking vs Feeling\n",
      "Geometric Mean Score: 0.60\n",
      "ROC-AUC Score: 0.68\n",
      "Average Precision-Recall Score: 0.70\n",
      "                   pre       rec       spe        f1       geo       iba       sup\n",
      "\n",
      "          0       0.50      0.82      0.39      0.62      0.56      0.33       336\n",
      "          1       0.74      0.39      0.82      0.51      0.56      0.30       451\n",
      "\n",
      "avg / total       0.64      0.57      0.63      0.56      0.56      0.31       787\n",
      "\n",
      "\n",
      "Judging vs Perceiving\n",
      "Geometric Mean Score: 0.56\n",
      "ROC-AUC Score: 0.65\n",
      "Average Precision-Recall Score: 0.60\n",
      "                   pre       rec       spe        f1       geo       iba       sup\n",
      "\n",
      "          0       0.69      0.32      0.81      0.44      0.51      0.25       453\n",
      "          1       0.47      0.81      0.32      0.59      0.51      0.27       334\n",
      "\n",
      "avg / total       0.60      0.53      0.60      0.50      0.51      0.26       787\n",
      "\n",
      "CPU times: total: 13min 2s\n",
      "Wall time: 29min 2s\n"
     ]
    }
   ],
   "source": [
    "%%time\n",
    "ct_logistic_regression_lasso = imb_make_pipeline(\n",
    "    preprocesser_ct, RandomUnderSampler(), LogisticRegressionCV(penalty='l1', solver='saga' )\n",
    ")\n",
    "build_model(ct_logistic_regression_lasso, X, y, \"ct_vect\")"
   ]
  },
  {
   "cell_type": "markdown",
   "metadata": {},
   "source": [
    "### TF-IDF Logistic Ridge"
   ]
  },
  {
   "cell_type": "code",
   "execution_count": 12,
   "metadata": {
    "ExecuteTime": {
     "start_time": "2023-04-18T21:33:12.938059Z",
     "end_time": "2023-04-18T21:37:41.450743Z"
    }
   },
   "outputs": [
    {
     "name": "stdout",
     "output_type": "stream",
     "text": [
      "\n",
      "Extrovert vs Introvert\n",
      "Geometric Mean Score: 0.66\n",
      "ROC-AUC Score: 0.70\n",
      "Average Precision-Recall Score: 0.59\n",
      "                   pre       rec       spe        f1       geo       iba       sup\n",
      "\n",
      "          0       0.77      0.68      0.64      0.72      0.66      0.44       498\n",
      "          1       0.54      0.64      0.68      0.58      0.66      0.43       289\n",
      "\n",
      "avg / total       0.68      0.67      0.66      0.67      0.66      0.44       787\n",
      "\n",
      "\n",
      "Sensing vs Intuition\n",
      "Geometric Mean Score: 0.76\n",
      "ROC-AUC Score: 0.83\n",
      "Average Precision-Recall Score: 0.69\n",
      "                   pre       rec       spe        f1       geo       iba       sup\n",
      "\n",
      "          0       0.89      0.78      0.75      0.83      0.76      0.59       563\n",
      "          1       0.58      0.75      0.78      0.65      0.76      0.58       224\n",
      "\n",
      "avg / total       0.80      0.77      0.76      0.78      0.76      0.59       787\n",
      "\n",
      "\n",
      "Thinking vs Feeling\n",
      "Geometric Mean Score: 0.66\n",
      "ROC-AUC Score: 0.72\n",
      "Average Precision-Recall Score: 0.74\n",
      "                   pre       rec       spe        f1       geo       iba       sup\n",
      "\n",
      "          0       0.61      0.60      0.72      0.60      0.65      0.42       336\n",
      "          1       0.70      0.72      0.60      0.71      0.65      0.43       451\n",
      "\n",
      "avg / total       0.66      0.67      0.65      0.67      0.65      0.43       787\n",
      "\n",
      "\n",
      "Judging vs Perceiving\n",
      "Geometric Mean Score: 0.62\n",
      "ROC-AUC Score: 0.68\n",
      "Average Precision-Recall Score: 0.62\n",
      "                   pre       rec       spe        f1       geo       iba       sup\n",
      "\n",
      "          0       0.69      0.63      0.61      0.66      0.62      0.39       453\n",
      "          1       0.55      0.61      0.63      0.58      0.62      0.38       334\n",
      "\n",
      "avg / total       0.63      0.62      0.62      0.62      0.62      0.39       787\n",
      "\n",
      "CPU times: total: 1min 58s\n",
      "Wall time: 4min 28s\n"
     ]
    }
   ],
   "source": [
    "%%time\n",
    "tfidf_logistic_regression_ridge = imb_make_pipeline(\n",
    "    preprocesser_tf, RandomUnderSampler(), LogisticRegressionCV(penalty='l2', solver='saga' )\n",
    ")\n",
    "build_model(tfidf_logistic_regression_ridge, X, y, \"tfidf\")"
   ]
  },
  {
   "cell_type": "markdown",
   "metadata": {},
   "source": [
    "### Count Vectorized Logistic Ridge"
   ]
  },
  {
   "cell_type": "code",
   "execution_count": 13,
   "metadata": {
    "ExecuteTime": {
     "start_time": "2023-04-18T21:37:41.460181Z",
     "end_time": "2023-04-18T21:45:07.389390Z"
    }
   },
   "outputs": [
    {
     "name": "stdout",
     "output_type": "stream",
     "text": [
      "\n",
      "Extrovert vs Introvert\n",
      "Geometric Mean Score: 0.52\n",
      "ROC-AUC Score: 0.68\n",
      "Average Precision-Recall Score: 0.55\n",
      "                   pre       rec       spe        f1       geo       iba       sup\n",
      "\n",
      "          0       0.85      0.09      0.97      0.16      0.29      0.08       498\n",
      "          1       0.38      0.97      0.09      0.55      0.29      0.09       289\n",
      "\n",
      "avg / total       0.68      0.41      0.65      0.30      0.29      0.08       787\n",
      "\n",
      "\n",
      "Sensing vs Intuition\n",
      "Geometric Mean Score: 0.45\n",
      "ROC-AUC Score: 0.74\n",
      "Average Precision-Recall Score: 0.57\n",
      "                   pre       rec       spe        f1       geo       iba       sup\n",
      "\n",
      "          0       0.70      0.01      0.99      0.02      0.11      0.01       563\n",
      "          1       0.28      0.99      0.01      0.44      0.11      0.01       224\n",
      "\n",
      "avg / total       0.58      0.29      0.71      0.14      0.11      0.01       787\n",
      "\n",
      "\n",
      "Thinking vs Feeling\n",
      "Geometric Mean Score: 0.63\n",
      "ROC-AUC Score: 0.69\n",
      "Average Precision-Recall Score: 0.70\n",
      "                   pre       rec       spe        f1       geo       iba       sup\n",
      "\n",
      "          0       0.52      0.79      0.47      0.63      0.61      0.38       336\n",
      "          1       0.75      0.47      0.79      0.58      0.61      0.36       451\n",
      "\n",
      "avg / total       0.65      0.60      0.65      0.60      0.61      0.37       787\n",
      "\n",
      "\n",
      "Judging vs Perceiving\n",
      "Geometric Mean Score: 0.60\n",
      "ROC-AUC Score: 0.65\n",
      "Average Precision-Recall Score: 0.60\n",
      "                   pre       rec       spe        f1       geo       iba       sup\n",
      "\n",
      "          0       0.69      0.51      0.69      0.59      0.60      0.35       453\n",
      "          1       0.51      0.69      0.51      0.59      0.60      0.36       334\n",
      "\n",
      "avg / total       0.62      0.59      0.62      0.59      0.60      0.35       787\n",
      "\n",
      "CPU times: total: 3min 8s\n",
      "Wall time: 7min 25s\n"
     ]
    }
   ],
   "source": [
    "%%time\n",
    "ct_logistic_regression_ridge = imb_make_pipeline(\n",
    "    preprocesser_ct, RandomUnderSampler(), LogisticRegressionCV(penalty='l2', solver='saga' )\n",
    ")\n",
    "build_model(ct_logistic_regression_ridge, X, y, \"ct_vect\")"
   ]
  },
  {
   "cell_type": "markdown",
   "metadata": {},
   "source": [
    "### TF-IDF Logistic Elasticnet"
   ]
  },
  {
   "cell_type": "markdown",
   "metadata": {},
   "source": [
    "* Takes longest to run and the results are almost same as lasso and ridge model. So this code is commented to save time when re-running the entire notebook."
   ]
  },
  {
   "cell_type": "code",
   "execution_count": 14,
   "metadata": {
    "ExecuteTime": {
     "start_time": "2023-04-18T21:45:07.389390Z",
     "end_time": "2023-04-19T00:45:46.157275Z"
    }
   },
   "outputs": [
    {
     "name": "stdout",
     "output_type": "stream",
     "text": [
      "\n",
      "Extrovert vs Introvert\n",
      "Accuracy: 0.6378653113087674 \n",
      "\n",
      "              precision    recall  f1-score   support\n",
      "\n",
      "           0       0.74      0.66      0.70       498\n",
      "           1       0.51      0.60      0.55       289\n",
      "\n",
      "    accuracy                           0.64       787\n",
      "   macro avg       0.62      0.63      0.62       787\n",
      "weighted avg       0.65      0.64      0.64       787\n",
      "\n",
      "\n",
      "Sensing vs Intuition\n",
      "Accuracy: 0.7674714104193139 \n",
      "\n",
      "              precision    recall  f1-score   support\n",
      "\n",
      "           0       0.89      0.77      0.83       563\n",
      "           1       0.57      0.76      0.65       224\n",
      "\n",
      "    accuracy                           0.77       787\n",
      "   macro avg       0.73      0.76      0.74       787\n",
      "weighted avg       0.80      0.77      0.78       787\n",
      "\n",
      "\n",
      "Thinking vs Feeling\n",
      "Accuracy: 0.6734434561626429 \n",
      "\n",
      "              precision    recall  f1-score   support\n",
      "\n",
      "           0       0.62      0.62      0.62       336\n",
      "           1       0.72      0.71      0.71       451\n",
      "\n",
      "    accuracy                           0.67       787\n",
      "   macro avg       0.67      0.67      0.67       787\n",
      "weighted avg       0.67      0.67      0.67       787\n",
      "\n",
      "\n",
      "Judging vs Perceiving\n",
      "Accuracy: 0.6149936467598475 \n",
      "\n",
      "              precision    recall  f1-score   support\n",
      "\n",
      "           0       0.69      0.60      0.64       453\n",
      "           1       0.54      0.63      0.58       334\n",
      "\n",
      "    accuracy                           0.61       787\n",
      "   macro avg       0.61      0.62      0.61       787\n",
      "weighted avg       0.63      0.61      0.62       787\n",
      "\n",
      "CPU times: total: 1h 46min 48s\n",
      "Wall time: 3h 38s\n"
     ]
    }
   ],
   "source": [
    "%%time\n",
    "from sklearn.metrics import classification_report\n",
    "\n",
    "for col in y.columns:\n",
    "\n",
    "    print(f\"\\n{mbti_type[col]}\")\n",
    "\n",
    "    target = y[col]\n",
    "\n",
    "    X_train, X_test, y_train, y_test = train_test_split(\n",
    "        X, target, test_size=0.2, random_state=42, stratify=target\n",
    "    )\n",
    "\n",
    "    tfidf_logistic_regression_elasticnet = imb_make_pipeline(\n",
    "        preprocesser_tf,\n",
    "    #     DenseTransformer(),\n",
    "        RandomUnderSampler(),\n",
    "        LogisticRegressionCV(\n",
    "            penalty='elasticnet',\n",
    "            l1_ratios=[0, .1, .2, .3, .4, .5, .6, .7, .8, .9, 1],\n",
    "            solver='saga'\n",
    "        )\n",
    "    )\n",
    "\n",
    "    tfidf_logistic_regression_elasticnet.fit(X_train, y_train)\n",
    "\n",
    "    print(f'Accuracy: {tfidf_logistic_regression_elasticnet.score(X_test, y_test)} \\n')\n",
    "    print(classification_report(y_test, tfidf_logistic_regression_elasticnet.predict(X_test)))"
   ]
  },
  {
   "cell_type": "markdown",
   "metadata": {},
   "source": [
    "### TF-IDF Support Vector Classifier"
   ]
  },
  {
   "cell_type": "code",
   "execution_count": 15,
   "metadata": {
    "ExecuteTime": {
     "start_time": "2023-04-19T00:45:46.167819Z",
     "end_time": "2023-04-19T03:45:17.233396Z"
    }
   },
   "outputs": [
    {
     "name": "stdout",
     "output_type": "stream",
     "text": [
      "\n",
      "Extrovert vs Introvert\n",
      "Geometric Mean Score: 0.64\n",
      "ROC-AUC Score: 0.70\n",
      "Average Precision-Recall Score: 0.60\n",
      "                   pre       rec       spe        f1       geo       iba       sup\n",
      "\n",
      "          0       0.75      0.65      0.64      0.70      0.64      0.41       498\n",
      "          1       0.51      0.64      0.65      0.57      0.64      0.41       289\n",
      "\n",
      "avg / total       0.67      0.64      0.64      0.65      0.64      0.41       787\n",
      "\n",
      "\n",
      "Sensing vs Intuition\n",
      "Geometric Mean Score: 0.78\n",
      "ROC-AUC Score: 0.82\n",
      "Average Precision-Recall Score: 0.70\n",
      "                   pre       rec       spe        f1       geo       iba       sup\n",
      "\n",
      "          0       0.89      0.80      0.76      0.84      0.78      0.61       563\n",
      "          1       0.60      0.76      0.80      0.67      0.78      0.60       224\n",
      "\n",
      "avg / total       0.81      0.79      0.77      0.79      0.78      0.60       787\n",
      "\n",
      "\n",
      "Thinking vs Feeling\n",
      "Geometric Mean Score: 0.67\n",
      "ROC-AUC Score: 0.73\n",
      "Average Precision-Recall Score: 0.75\n",
      "                   pre       rec       spe        f1       geo       iba       sup\n",
      "\n",
      "          0       0.62      0.61      0.72      0.62      0.66      0.44       336\n",
      "          1       0.71      0.72      0.61      0.72      0.66      0.45       451\n",
      "\n",
      "avg / total       0.67      0.67      0.66      0.67      0.66      0.44       787\n",
      "\n",
      "\n",
      "Judging vs Perceiving\n",
      "Geometric Mean Score: 0.62\n",
      "ROC-AUC Score: 0.67\n",
      "Average Precision-Recall Score: 0.63\n",
      "                   pre       rec       spe        f1       geo       iba       sup\n",
      "\n",
      "          0       0.69      0.61      0.62      0.65      0.62      0.38       453\n",
      "          1       0.54      0.62      0.61      0.58      0.62      0.38       334\n",
      "\n",
      "avg / total       0.63      0.62      0.62      0.62      0.62      0.38       787\n",
      "\n",
      "CPU times: total: 31min 43s\n",
      "Wall time: 2h 59min 31s\n"
     ]
    }
   ],
   "source": [
    "%%time\n",
    "tfidf_svc = imb_make_pipeline(\n",
    "    preprocesser_tf, RandomUnderSampler(), DenseTransformer(), SVC(kernel='linear',probability=True)\n",
    ")\n",
    "build_model(tfidf_svc, X, y, \"tfidf\")"
   ]
  },
  {
   "cell_type": "markdown",
   "source": [],
   "metadata": {
    "collapsed": false
   }
  },
  {
   "cell_type": "markdown",
   "metadata": {},
   "source": [
    "### Count Vectorized Support Vector Classifier"
   ]
  },
  {
   "cell_type": "code",
   "execution_count": 14,
   "metadata": {
    "ExecuteTime": {
     "start_time": "2023-04-19T15:30:51.212549Z",
     "end_time": "2023-04-19T18:52:23.102614Z"
    }
   },
   "outputs": [
    {
     "name": "stdout",
     "output_type": "stream",
     "text": [
      "\n",
      "Extrovert vs Introvert\n",
      "Geometric Mean Score: 0.58\n",
      "ROC-AUC Score: 0.51\n",
      "Average Precision-Recall Score: 0.38\n",
      "                   pre       rec       spe        f1       geo       iba       sup\n",
      "\n",
      "          0       0.71      0.56      0.61      0.63      0.58      0.34       498\n",
      "          1       0.44      0.61      0.56      0.51      0.58      0.34       289\n",
      "\n",
      "avg / total       0.61      0.58      0.59      0.58      0.58      0.34       787\n",
      "\n",
      "\n",
      "Sensing vs Intuition\n",
      "Geometric Mean Score: 0.56\n",
      "ROC-AUC Score: 0.56\n",
      "Average Precision-Recall Score: 0.36\n",
      "                   pre       rec       spe        f1       geo       iba       sup\n",
      "\n",
      "          0       0.76      0.57      0.55      0.65      0.56      0.31       563\n",
      "          1       0.34      0.55      0.57      0.42      0.56      0.31       224\n",
      "\n",
      "avg / total       0.64      0.56      0.55      0.58      0.56      0.31       787\n",
      "\n",
      "\n",
      "Thinking vs Feeling\n",
      "Geometric Mean Score: 0.60\n",
      "ROC-AUC Score: 0.64\n",
      "Average Precision-Recall Score: 0.68\n",
      "                   pre       rec       spe        f1       geo       iba       sup\n",
      "\n",
      "          0       0.54      0.58      0.63      0.56      0.60      0.36       336\n",
      "          1       0.67      0.63      0.58      0.65      0.60      0.37       451\n",
      "\n",
      "avg / total       0.61      0.61      0.60      0.61      0.60      0.36       787\n",
      "\n",
      "\n",
      "Judging vs Perceiving\n",
      "Geometric Mean Score: 0.56\n",
      "ROC-AUC Score: 0.59\n",
      "Average Precision-Recall Score: 0.56\n",
      "                   pre       rec       spe        f1       geo       iba       sup\n",
      "\n",
      "          0       0.63      0.56      0.56      0.59      0.56      0.31       453\n",
      "          1       0.48      0.56      0.56      0.52      0.56      0.31       334\n",
      "\n",
      "avg / total       0.57      0.56      0.56      0.56      0.56      0.31       787\n",
      "\n",
      "CPU times: total: 37min 50s\n",
      "Wall time: 3h 21min 31s\n"
     ]
    }
   ],
   "source": [
    "%%time\n",
    "ct_svc = imb_make_pipeline(\n",
    "    preprocesser_ct, DenseTransformer(), RandomUnderSampler(), SVC(kernel='linear',probability=True)\n",
    ")\n",
    "build_model(ct_svc, X, y, \"ct_vect\")"
   ]
  },
  {
   "cell_type": "markdown",
   "metadata": {},
   "source": [
    "### TF-IDF Naive Bayes"
   ]
  },
  {
   "cell_type": "code",
   "execution_count": 15,
   "metadata": {
    "ExecuteTime": {
     "start_time": "2023-04-19T18:52:23.132571Z",
     "end_time": "2023-04-19T18:53:05.365730Z"
    }
   },
   "outputs": [
    {
     "name": "stdout",
     "output_type": "stream",
     "text": [
      "\n",
      "Extrovert vs Introvert\n",
      "Geometric Mean Score: 0.55\n",
      "ROC-AUC Score: 0.62\n",
      "Average Precision-Recall Score: 0.50\n",
      "                   pre       rec       spe        f1       geo       iba       sup\n",
      "\n",
      "          0       0.72      0.30      0.81      0.42      0.49      0.23       498\n",
      "          1       0.40      0.81      0.30      0.53      0.49      0.25       289\n",
      "\n",
      "avg / total       0.60      0.48      0.62      0.46      0.49      0.23       787\n",
      "\n",
      "\n",
      "Sensing vs Intuition\n",
      "Geometric Mean Score: 0.52\n",
      "ROC-AUC Score: 0.69\n",
      "Average Precision-Recall Score: 0.54\n",
      "                   pre       rec       spe        f1       geo       iba       sup\n",
      "\n",
      "          0       0.82      0.20      0.89      0.32      0.42      0.17       563\n",
      "          1       0.31      0.89      0.20      0.46      0.42      0.19       224\n",
      "\n",
      "avg / total       0.67      0.40      0.69      0.36      0.42      0.17       787\n",
      "\n",
      "\n",
      "Thinking vs Feeling\n",
      "Geometric Mean Score: 0.64\n",
      "ROC-AUC Score: 0.70\n",
      "Average Precision-Recall Score: 0.71\n",
      "                   pre       rec       spe        f1       geo       iba       sup\n",
      "\n",
      "          0       0.53      0.80      0.48      0.64      0.62      0.40       336\n",
      "          1       0.76      0.48      0.80      0.59      0.62      0.37       451\n",
      "\n",
      "avg / total       0.67      0.62      0.66      0.61      0.62      0.38       787\n",
      "\n",
      "\n",
      "Judging vs Perceiving\n",
      "Geometric Mean Score: 0.59\n",
      "ROC-AUC Score: 0.64\n",
      "Average Precision-Recall Score: 0.57\n",
      "                   pre       rec       spe        f1       geo       iba       sup\n",
      "\n",
      "          0       0.69      0.46      0.72      0.55      0.58      0.32       453\n",
      "          1       0.50      0.72      0.46      0.59      0.58      0.34       334\n",
      "\n",
      "avg / total       0.61      0.57      0.61      0.57      0.58      0.33       787\n",
      "\n",
      "CPU times: total: 15.7 s\n",
      "Wall time: 42.1 s\n"
     ]
    }
   ],
   "source": [
    "%%time\n",
    "tfidf_nb = imb_make_pipeline(\n",
    "    preprocesser_tf, DenseTransformer(), RandomUnderSampler(), MultinomialNB(),\n",
    ")\n",
    "build_model(tfidf_nb, X, y, \"tfidf\")"
   ]
  },
  {
   "cell_type": "markdown",
   "metadata": {},
   "source": [
    "### Count Vectorized Naive Bayes"
   ]
  },
  {
   "cell_type": "code",
   "execution_count": 16,
   "metadata": {
    "ExecuteTime": {
     "start_time": "2023-04-19T18:53:05.366917Z",
     "end_time": "2023-04-19T18:53:47.293230Z"
    }
   },
   "outputs": [
    {
     "name": "stdout",
     "output_type": "stream",
     "text": [
      "\n",
      "Extrovert vs Introvert\n",
      "Geometric Mean Score: 0.55\n",
      "ROC-AUC Score: 0.59\n",
      "Average Precision-Recall Score: 0.48\n",
      "                   pre       rec       spe        f1       geo       iba       sup\n",
      "\n",
      "          0       0.69      0.48      0.63      0.57      0.55      0.30       498\n",
      "          1       0.41      0.63      0.48      0.50      0.55      0.31       289\n",
      "\n",
      "avg / total       0.59      0.53      0.57      0.54      0.55      0.30       787\n",
      "\n",
      "\n",
      "Sensing vs Intuition\n",
      "Geometric Mean Score: 0.57\n",
      "ROC-AUC Score: 0.60\n",
      "Average Precision-Recall Score: 0.41\n",
      "                   pre       rec       spe        f1       geo       iba       sup\n",
      "\n",
      "          0       0.78      0.48      0.66      0.60      0.56      0.31       563\n",
      "          1       0.34      0.66      0.48      0.44      0.56      0.32       224\n",
      "\n",
      "avg / total       0.65      0.53      0.61      0.55      0.56      0.32       787\n",
      "\n",
      "\n",
      "Thinking vs Feeling\n",
      "Geometric Mean Score: 0.61\n",
      "ROC-AUC Score: 0.67\n",
      "Average Precision-Recall Score: 0.70\n",
      "                   pre       rec       spe        f1       geo       iba       sup\n",
      "\n",
      "          0       0.52      0.73      0.50      0.61      0.60      0.37       336\n",
      "          1       0.71      0.50      0.73      0.59      0.60      0.36       451\n",
      "\n",
      "avg / total       0.63      0.60      0.63      0.60      0.60      0.36       787\n",
      "\n",
      "\n",
      "Judging vs Perceiving\n",
      "Geometric Mean Score: 0.61\n",
      "ROC-AUC Score: 0.64\n",
      "Average Precision-Recall Score: 0.54\n",
      "                   pre       rec       spe        f1       geo       iba       sup\n",
      "\n",
      "          0       0.70      0.50      0.71      0.59      0.60      0.35       453\n",
      "          1       0.51      0.71      0.50      0.60      0.60      0.36       334\n",
      "\n",
      "avg / total       0.62      0.59      0.62      0.59      0.60      0.36       787\n",
      "\n",
      "CPU times: total: 16.6 s\n",
      "Wall time: 42 s\n"
     ]
    }
   ],
   "source": [
    "%%time\n",
    "ct_nb = imb_make_pipeline(\n",
    "    preprocesser_ct, DenseTransformer(), RandomUnderSampler(), MultinomialNB(),\n",
    ")\n",
    "build_model(ct_nb, X, y, \"ct_vect\")"
   ]
  },
  {
   "cell_type": "markdown",
   "metadata": {},
   "source": [
    "### TF-IDF Random Forest"
   ]
  },
  {
   "cell_type": "code",
   "execution_count": 17,
   "metadata": {
    "ExecuteTime": {
     "start_time": "2023-04-19T18:53:47.301312Z",
     "end_time": "2023-04-19T18:54:46.718780Z"
    }
   },
   "outputs": [
    {
     "name": "stdout",
     "output_type": "stream",
     "text": [
      "\n",
      "Extrovert vs Introvert\n",
      "Geometric Mean Score: 0.63\n",
      "ROC-AUC Score: 0.67\n",
      "Average Precision-Recall Score: 0.55\n",
      "                   pre       rec       spe        f1       geo       iba       sup\n",
      "\n",
      "          0       0.73      0.69      0.56      0.71      0.63      0.40       498\n",
      "          1       0.52      0.56      0.69      0.54      0.63      0.39       289\n",
      "\n",
      "avg / total       0.65      0.65      0.61      0.65      0.63      0.39       787\n",
      "\n",
      "\n",
      "Sensing vs Intuition\n",
      "Geometric Mean Score: 0.69\n",
      "ROC-AUC Score: 0.75\n",
      "Average Precision-Recall Score: 0.57\n",
      "                   pre       rec       spe        f1       geo       iba       sup\n",
      "\n",
      "          0       0.83      0.79      0.59      0.81      0.68      0.48       563\n",
      "          1       0.53      0.59      0.79      0.56      0.68      0.46       224\n",
      "\n",
      "avg / total       0.74      0.73      0.65      0.74      0.68      0.47       787\n",
      "\n",
      "\n",
      "Thinking vs Feeling\n",
      "Geometric Mean Score: 0.63\n",
      "ROC-AUC Score: 0.69\n",
      "Average Precision-Recall Score: 0.71\n",
      "                   pre       rec       spe        f1       geo       iba       sup\n",
      "\n",
      "          0       0.57      0.62      0.65      0.59      0.63      0.40       336\n",
      "          1       0.70      0.65      0.62      0.67      0.63      0.40       451\n",
      "\n",
      "avg / total       0.64      0.64      0.63      0.64      0.63      0.40       787\n",
      "\n",
      "\n",
      "Judging vs Perceiving\n",
      "Geometric Mean Score: 0.60\n",
      "ROC-AUC Score: 0.64\n",
      "Average Precision-Recall Score: 0.60\n",
      "                   pre       rec       spe        f1       geo       iba       sup\n",
      "\n",
      "          0       0.66      0.64      0.56      0.65      0.60      0.36       453\n",
      "          1       0.53      0.56      0.64      0.55      0.60      0.36       334\n",
      "\n",
      "avg / total       0.61      0.61      0.59      0.61      0.60      0.36       787\n",
      "\n",
      "CPU times: total: 22.4 s\n",
      "Wall time: 59.4 s\n"
     ]
    }
   ],
   "source": [
    "%%time\n",
    "tfidf_rf = imb_make_pipeline(\n",
    "    preprocesser_tf, DenseTransformer(),\n",
    "        RandomUnderSampler(),\n",
    "        RandomForestClassifier(n_estimators=100, max_depth=10),\n",
    ")\n",
    "build_model(tfidf_rf, X, y, \"tfidf\")"
   ]
  },
  {
   "cell_type": "markdown",
   "metadata": {},
   "source": [
    "### Count Vectorized Random Forest"
   ]
  },
  {
   "cell_type": "code",
   "execution_count": 18,
   "metadata": {
    "ExecuteTime": {
     "start_time": "2023-04-19T18:54:46.722619Z",
     "end_time": "2023-04-19T18:55:30.694652Z"
    }
   },
   "outputs": [
    {
     "name": "stdout",
     "output_type": "stream",
     "text": [
      "\n",
      "Extrovert vs Introvert\n",
      "Geometric Mean Score: 0.62\n",
      "ROC-AUC Score: 0.67\n",
      "Average Precision-Recall Score: 0.55\n",
      "                   pre       rec       spe        f1       geo       iba       sup\n",
      "\n",
      "          0       0.73      0.69      0.55      0.71      0.62      0.39       498\n",
      "          1       0.51      0.55      0.69      0.53      0.62      0.38       289\n",
      "\n",
      "avg / total       0.65      0.64      0.61      0.65      0.62      0.39       787\n",
      "\n",
      "\n",
      "Sensing vs Intuition\n",
      "Geometric Mean Score: 0.71\n",
      "ROC-AUC Score: 0.74\n",
      "Average Precision-Recall Score: 0.54\n",
      "                   pre       rec       spe        f1       geo       iba       sup\n",
      "\n",
      "          0       0.85      0.79      0.64      0.82      0.71      0.51       563\n",
      "          1       0.55      0.64      0.79      0.59      0.71      0.50       224\n",
      "\n",
      "avg / total       0.76      0.75      0.68      0.75      0.71      0.51       787\n",
      "\n",
      "\n",
      "Thinking vs Feeling\n",
      "Geometric Mean Score: 0.62\n",
      "ROC-AUC Score: 0.67\n",
      "Average Precision-Recall Score: 0.70\n",
      "                   pre       rec       spe        f1       geo       iba       sup\n",
      "\n",
      "          0       0.56      0.57      0.66      0.57      0.62      0.38       336\n",
      "          1       0.68      0.66      0.57      0.67      0.62      0.38       451\n",
      "\n",
      "avg / total       0.63      0.62      0.61      0.62      0.62      0.38       787\n",
      "\n",
      "\n",
      "Judging vs Perceiving\n",
      "Geometric Mean Score: 0.59\n",
      "ROC-AUC Score: 0.63\n",
      "Average Precision-Recall Score: 0.60\n",
      "                   pre       rec       spe        f1       geo       iba       sup\n",
      "\n",
      "          0       0.66      0.65      0.54      0.65      0.59      0.35       453\n",
      "          1       0.53      0.54      0.65      0.53      0.59      0.34       334\n",
      "\n",
      "avg / total       0.60      0.60      0.58      0.60      0.59      0.35       787\n",
      "\n",
      "CPU times: total: 18.6 s\n",
      "Wall time: 44 s\n"
     ]
    }
   ],
   "source": [
    "%%time\n",
    "ct_rf = imb_make_pipeline(\n",
    "    preprocesser_ct, RandomUnderSampler(), RandomForestClassifier(n_estimators=100, max_depth=10),\n",
    ")\n",
    "build_model(ct_rf, X, y, \"ct_vect\")"
   ]
  },
  {
   "cell_type": "markdown",
   "metadata": {},
   "source": [
    "### Final Model - Logistic Regression with TF-IDF Vectorization\n",
    "\n",
    "Selecting TF-IDF Logistic Regression as our final model as it returned the highest scores for all metrics - accuracy, precision, recall, roc-auc, avg_precision_recall as compared to other models."
   ]
  },
  {
   "cell_type": "code",
   "execution_count": 19,
   "metadata": {
    "ExecuteTime": {
     "start_time": "2023-04-19T18:55:30.702754Z",
     "end_time": "2023-04-19T18:58:01.998974Z"
    }
   },
   "outputs": [
    {
     "name": "stdout",
     "output_type": "stream",
     "text": [
      "\n",
      "Extrovert vs Introvert\n",
      "               coef\n",
      "word               \n",
      "love       2.309715\n",
      "boyfriend  2.104251\n",
      "advice     2.093980\n",
      "extrovert  2.014531\n",
      "crazy      1.979860\n",
      "friend     1.910236\n",
      "dude       1.902429\n",
      "test       1.893324\n",
      "debate     1.883466\n",
      "super      1.874069\n",
      "autism    -1.871727\n",
      "watched   -1.857955\n",
      "rly        1.839819\n",
      "por        1.791624\n",
      "big        1.791424\n",
      "adhd       1.779850\n",
      "autistic  -1.776870\n",
      "helped     1.747866\n",
      "deck      -1.739351\n",
      "enneagram  1.721543\n",
      "thought   -1.719695\n",
      "\n",
      "Sensing vs Intuition\n",
      "               coef\n",
      "word               \n",
      "human     -2.404140\n",
      "world     -2.382216\n",
      "thanks     2.354161\n",
      "yeah       2.240944\n",
      "anyone    -2.227895\n",
      "adhd      -2.096479\n",
      "intuitive  2.019469\n",
      "pretty     1.971774\n",
      "romantic  -1.882825\n",
      "guy       -1.829289\n",
      "music      1.802845\n",
      "fun        1.708477\n",
      "create    -1.697773\n",
      "love      -1.654712\n",
      "relate     1.633772\n",
      "boring     1.629247\n",
      "depends    1.621722\n",
      "quiet      1.600155\n",
      "data       1.592675\n",
      "hobby      1.580236\n",
      "stuck      1.571460\n",
      "\n",
      "Thinking vs Feeling\n",
      "               coef\n",
      "word               \n",
      "hope      -3.599576\n",
      "love      -3.047762\n",
      "sad       -2.705233\n",
      "sorry     -2.569156\n",
      "sure      -2.504104\n",
      "emotion    2.413720\n",
      "omg       -2.344145\n",
      "goal       2.279298\n",
      "care       2.262637\n",
      "deep      -2.261002\n",
      "obviously  2.248774\n",
      "smart      2.226416\n",
      "bit       -2.166149\n",
      "happy     -2.077769\n",
      "since      2.048820\n",
      "others    -2.041423\n",
      "anxiety   -2.024325\n",
      "asshole    1.993718\n",
      "pas        1.962405\n",
      "deck       1.921709\n",
      "cute      -1.909413\n",
      "\n",
      "Judging vs Perceiving\n",
      "                coef\n",
      "word                \n",
      "thank       0.801812\n",
      "husband     0.717062\n",
      "help        0.710150\n",
      "book        0.673952\n",
      "definitely  0.672285\n",
      "cuz        -0.661858\n",
      "song       -0.660469\n",
      "shit       -0.656533\n",
      "cool       -0.646221\n",
      "idk        -0.634904\n",
      "yes         0.627181\n",
      "work        0.622774\n",
      "read        0.612017\n",
      "idea       -0.605407\n",
      "adhd       -0.575180\n",
      "fun        -0.572736\n",
      "guy        -0.539083\n",
      "goal        0.531143\n",
      "student     0.529671\n",
      "plan        0.523798\n",
      "gif         0.507068\n",
      "CPU times: total: 31.5 s\n",
      "Wall time: 2min 30s\n"
     ]
    },
    {
     "data": {
      "text/plain": "<Figure size 640x480 with 1 Axes>",
      "image/png": "[encoded data removed]"
     },
     "metadata": {},
     "output_type": "display_data"
    },
    {
     "data": {
      "text/plain": "<Figure size 640x480 with 1 Axes>",
      "image/png": "[encoded data removed]"
     },
     "metadata": {},
     "output_type": "display_data"
    },
    {
     "data": {
      "text/plain": "<Figure size 640x480 with 1 Axes>",
      "image/png": "[encoded data removed]"
     },
     "metadata": {},
     "output_type": "display_data"
    },
    {
     "data": {
      "text/plain": "<Figure size 640x480 with 1 Axes>",
      "image/png": "[encoded data removed]"
     },
     "metadata": {},
     "output_type": "display_data"
    }
   ],
   "source": [
    "%%time\n",
    "\n",
    "for col in y.columns:\n",
    "    \n",
    "    print(f\"\\n{mbti_type[col]}\")\n",
    "\n",
    "    target = y[col]\n",
    "\n",
    "    tfidf_logistic_regression = imb_make_pipeline(\n",
    "        preprocesser_tf,\n",
    "        RandomUnderSampler(),\n",
    "        LogisticRegressionCV()\n",
    "    )\n",
    "    \n",
    "    # training the data on entire dataset\n",
    "    tfidf_logistic_regression.fit(X, target)\n",
    "    \n",
    "    # feature importance   \n",
    "    coef = tfidf_logistic_regression[-1].coef_[0]  \n",
    "    word = tfidf_logistic_regression[0].named_transformers_[\"tfidf\"].get_feature_names()\n",
    "    word_list = list(zip(word, coef))         \n",
    "    result = pd.DataFrame(word_list, columns=[\"word\", \"coef\"]).set_index(\"word\")    \n",
    "    result = result.reindex(result.coef.abs().sort_values(ascending=False).index)[0:21]\n",
    "    print(result)\n",
    "    \n",
    "    # plotting feature importance\n",
    "    result[\"coef\"] = result[\"coef\"].apply(lambda x: abs(x))\n",
    "    result.sort_values(\"coef\", inplace=True)\n",
    "    result.plot(kind=\"barh\", color=\"#61BED6\", title=mbti_type[col])\n",
    "  \n",
    "    # saving the model\n",
    "    dump(tfidf_logistic_regression, f\"clf_{col}.joblib\")"
   ]
  },
  {
   "cell_type": "code",
   "execution_count": 6,
   "metadata": {
    "ExecuteTime": {
     "start_time": "2023-04-19T15:29:48.559484Z",
     "end_time": "2023-04-19T15:29:48.682326Z"
    }
   },
   "outputs": [],
   "source": []
  }
 ],
 "metadata": {
  "kernelspec": {
   "display_name": "Python 3 (ipykernel)",
   "language": "python",
   "name": "python3"
  },
  "language_info": {
   "codemirror_mode": {
    "name": "ipython",
    "version": 3
   },
   "file_extension": ".py",
   "mimetype": "text/x-python",
   "name": "python",
   "nbconvert_exporter": "python",
   "pygments_lexer": "ipython3",
   "version": "3.10.4"
  }
 },
 "nbformat": 4,
 "nbformat_minor": 4
}
