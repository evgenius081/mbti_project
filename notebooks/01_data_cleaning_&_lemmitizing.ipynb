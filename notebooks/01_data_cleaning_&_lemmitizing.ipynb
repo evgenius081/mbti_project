{
 "cells": [
  {
   "cell_type": "markdown",
   "metadata": {},
   "source": [
    "# (MBTI) Myers-Briggs Personality Type Prediction\n",
    "\n",
    "The Myers Briggs Type Indicator (or MBTI for short) is a personality type system that divides everyone into 16 distinct personality types across 4 axis:\n",
    "\n",
    "* Introversion (I) – Extroversion (E)\n",
    "* Intuition (N) – Sensing (S)\n",
    "* Thinking (T) – Feeling (F)\n",
    "* Judging (J) – Perceiving (P)\n",
    "\n",
    "\n",
    "So for example, someone who prefers introversion, intuition, thinking and perceiving would be labelled an INTP in the MBTI system, and there are lots of personality based components that would model or describe this person’s preferences or behaviour based on the label.\n",
    "\n",
    "It is one of, if not the, the most popular personality test in the world. It is used in businesses, online, for fun, for research and lots more. A simple google search reveals all of the different ways the test has been used over time. It’s safe to say that this test is still very relevant in the world in terms of its use.\n",
    "\n",
    "From scientific or psychological perspective it is based on the work done on cognitive functions by Carl Jung i.e. Jungian Typology. This was a model of 8 distinct functions, thought processes or ways of thinking that were suggested to be present in the mind. Later this work was transformed into several different personality systems to make it more accessible, the most popular of which is of course the MBTI.\n",
    "\n",
    "Recently, its use/validity has come into question because of unreliability in experiments surrounding it, among other reasons. But it is still clung to as being a very useful tool in a lot of areas, and the purpose of this dataset is to help see if any patterns can be detected in specific types and their style of writing, which overall explores the validity of the test in analysing, predicting or categorising behaviour.\n",
    "\n",
    "Content:<br>\n",
    "This dataset contains over 8600 rows of data, on each row is a person’s:\n",
    "* Type (This persons 4 letter MBTI code/type)\n",
    "* A section of each of the last 50 things they have posted (Each entry separated by \"|||\" (3 pipe characters))"
   ]
  },
  {
   "cell_type": "markdown",
   "metadata": {},
   "source": [
    "## DATA CLEANING & LEMMITIZING"
   ]
  },
  {
   "cell_type": "code",
   "execution_count": 1,
   "metadata": {
    "ExecuteTime": {
     "start_time": "2023-04-18T15:44:28.584009Z",
     "end_time": "2023-04-18T15:44:32.382974Z"
    }
   },
   "outputs": [
    {
     "name": "stderr",
     "output_type": "stream",
     "text": [
      "[nltk_data] Downloading package stopwords to\n",
      "[nltk_data]     C:\\Users\\gulev\\AppData\\Roaming\\nltk_data...\n",
      "[nltk_data]   Package stopwords is already up-to-date!\n",
      "[nltk_data] Downloading package wordnet to\n",
      "[nltk_data]     C:\\Users\\gulev\\AppData\\Roaming\\nltk_data...\n",
      "[nltk_data]   Package wordnet is already up-to-date!\n"
     ]
    }
   ],
   "source": [
    "# importing dependencies here\n",
    "import numpy as np\n",
    "import pandas as pd\n",
    "import os\n",
    "import csv\n",
    "csv.field_size_limit(1_000_000)\n",
    "\n",
    "# for splitting data into training and holdout dataset\n",
    "from sklearn.model_selection import train_test_split\n",
    "\n",
    "# visualizations\n",
    "import seaborn as sns\n",
    "import matplotlib.pyplot as plt\n",
    "\n",
    "# cleaning and dropping stop words\n",
    "import re\n",
    "import nltk\n",
    "from nltk.corpus import stopwords\n",
    "\n",
    "nltk.download(\"stopwords\")\n",
    "nltk.download(\"wordnet\")\n",
    "\n",
    "# lemmitizing\n",
    "from nltk.stem import WordNetLemmatizer\n",
    "\n",
    "# performance check\n",
    "import time"
   ]
  },
  {
   "cell_type": "code",
   "execution_count": 2,
   "metadata": {
    "ExecuteTime": {
     "start_time": "2023-04-18T15:44:32.401041Z",
     "end_time": "2023-04-18T15:44:43.211757Z"
    }
   },
   "outputs": [
    {
     "name": "stdout",
     "output_type": "stream",
     "text": [
      "type\n",
      "INTP    501\n",
      "INTJ    456\n",
      "INFP    404\n",
      "ENTP    355\n",
      "INFJ    344\n",
      "ENFP    321\n",
      "ISTP    285\n",
      "ENTJ    262\n",
      "ISTJ    183\n",
      "ISFP    181\n",
      "ENFJ    171\n",
      "ISFJ    134\n",
      "ESTP    114\n",
      "ESFP    102\n",
      "ESTJ     99\n",
      "ESFJ     21\n",
      "Name: count, dtype: int64\n",
      "type\n",
      "INTP    5\n",
      "INTJ    5\n",
      "ENTP    4\n",
      "INFP    4\n",
      "ENTJ    3\n",
      "ISTP    3\n",
      "INFJ    3\n",
      "ENFP    3\n",
      "ENFJ    2\n",
      "ISFP    2\n",
      "ISTJ    2\n",
      "ISFJ    1\n",
      "ESFP    1\n",
      "ESTJ    1\n",
      "ESTP    1\n",
      "Name: count, dtype: int64\n"
     ]
    }
   ],
   "source": [
    "# reading the dataset\n",
    "df = pd.read_csv(os.path.join(\"..\", \"data\", \"texts_learn.csv\"), encoding='utf-8')\n",
    "\n",
    "# splitting data into training and holdout dataset\n",
    "personality_data, df_holdout = train_test_split(\n",
    "    df, random_state=42, test_size=0.01, stratify=df[\"type\"]\n",
    ")\n",
    "\n",
    "# saving the training and holdout datasets\n",
    "personality_data.to_csv(os.path.join(\"..\", \"data\", \"personality_data.csv\"), index=False)\n",
    "df_holdout.to_csv(os.path.join(\"..\", \"data\", \"df_holdout.csv\"), index=False)\n",
    "\n",
    "# checking the value counts to make sure data is stratified\n",
    "print(personality_data[\"type\"].value_counts())\n",
    "print(df_holdout[\"type\"].value_counts())"
   ]
  },
  {
   "cell_type": "code",
   "execution_count": 3,
   "metadata": {
    "ExecuteTime": {
     "start_time": "2023-04-18T15:44:43.211757Z",
     "end_time": "2023-04-18T15:44:47.382976Z"
    }
   },
   "outputs": [],
   "source": [
    "# reading the dataset that will be used for training and testing the model\n",
    "personality_data = pd.read_csv(os.path.join(\"..\", \"data\", \"personality_data.csv\"))"
   ]
  },
  {
   "cell_type": "code",
   "execution_count": 4,
   "metadata": {
    "ExecuteTime": {
     "start_time": "2023-04-18T15:44:47.392951Z",
     "end_time": "2023-04-18T15:44:47.470942Z"
    }
   },
   "outputs": [
    {
     "data": {
      "text/plain": "   type                                              posts\n0  INTJ  'Don’t peg your rate low, peg it high. An appe...\n1  INTP  '...you get Kid Rock.|||Now it is. Plural: 2sh...\n2  INFJ  'To me it seems that Stoicism has been reduced...\n3  INTP  'unBELIEVABLY based...same with physics|||yeah...\n4  INTJ  'Tbh, Ne doms are very fun chaotic people that...",
      "text/html": "<div>\n<style scoped>\n    .dataframe tbody tr th:only-of-type {\n        vertical-align: middle;\n    }\n\n    .dataframe tbody tr th {\n        vertical-align: top;\n    }\n\n    .dataframe thead th {\n        text-align: right;\n    }\n</style>\n<table border=\"1\" class=\"dataframe\">\n  <thead>\n    <tr style=\"text-align: right;\">\n      <th></th>\n      <th>type</th>\n      <th>posts</th>\n    </tr>\n  </thead>\n  <tbody>\n    <tr>\n      <th>0</th>\n      <td>INTJ</td>\n      <td>'Don’t peg your rate low, peg it high. An appe...</td>\n    </tr>\n    <tr>\n      <th>1</th>\n      <td>INTP</td>\n      <td>'...you get Kid Rock.|||Now it is. Plural: 2sh...</td>\n    </tr>\n    <tr>\n      <th>2</th>\n      <td>INFJ</td>\n      <td>'To me it seems that Stoicism has been reduced...</td>\n    </tr>\n    <tr>\n      <th>3</th>\n      <td>INTP</td>\n      <td>'unBELIEVABLY based...same with physics|||yeah...</td>\n    </tr>\n    <tr>\n      <th>4</th>\n      <td>INTJ</td>\n      <td>'Tbh, Ne doms are very fun chaotic people that...</td>\n    </tr>\n  </tbody>\n</table>\n</div>"
     },
     "execution_count": 4,
     "metadata": {},
     "output_type": "execute_result"
    }
   ],
   "source": [
    "# looking at the top 5 rows of the dataset\n",
    "personality_data.head()"
   ]
  },
  {
   "cell_type": "code",
   "execution_count": 5,
   "metadata": {
    "ExecuteTime": {
     "start_time": "2023-04-18T15:44:47.446318Z",
     "end_time": "2023-04-18T15:44:47.485139Z"
    }
   },
   "outputs": [
    {
     "data": {
      "text/plain": "(3933, 2)"
     },
     "execution_count": 5,
     "metadata": {},
     "output_type": "execute_result"
    }
   ],
   "source": [
    "# checking the number of rows and columns\n",
    "personality_data.shape"
   ]
  },
  {
   "cell_type": "markdown",
   "metadata": {},
   "source": [
    "#### Checking for Null values"
   ]
  },
  {
   "cell_type": "code",
   "execution_count": 6,
   "metadata": {
    "ExecuteTime": {
     "start_time": "2023-04-18T15:44:47.462084Z",
     "end_time": "2023-04-18T15:44:47.493401Z"
    }
   },
   "outputs": [
    {
     "data": {
      "text/plain": "type     0\nposts    0\ndtype: int64"
     },
     "execution_count": 6,
     "metadata": {},
     "output_type": "execute_result"
    }
   ],
   "source": [
    "# checking for missing values\n",
    "personality_data.isnull().sum()"
   ]
  },
  {
   "cell_type": "markdown",
   "metadata": {},
   "source": [
    "Luckily there are no missing values present in this dataset."
   ]
  },
  {
   "cell_type": "markdown",
   "metadata": {},
   "source": [
    "#### Checking for Class Imbalance"
   ]
  },
  {
   "cell_type": "code",
   "execution_count": 7,
   "metadata": {
    "ExecuteTime": {
     "start_time": "2023-04-18T15:44:47.493401Z",
     "end_time": "2023-04-18T15:44:47.668905Z"
    }
   },
   "outputs": [
    {
     "data": {
      "text/plain": "type\nINTP    501\nINTJ    456\nINFP    404\nENTP    355\nINFJ    344\nENFP    321\nISTP    285\nENTJ    262\nISTJ    183\nISFP    181\nENFJ    171\nISFJ    134\nESTP    114\nESFP    102\nESTJ     99\nESFJ     21\nName: count, dtype: int64"
     },
     "execution_count": 7,
     "metadata": {},
     "output_type": "execute_result"
    }
   ],
   "source": [
    "# checking number of records for each of the 16 personality types\n",
    "personality_data[\"type\"].value_counts()"
   ]
  },
  {
   "cell_type": "markdown",
   "metadata": {},
   "source": [
    "The dataset seems to be Imbalanced."
   ]
  },
  {
   "cell_type": "code",
   "execution_count": 8,
   "metadata": {
    "ExecuteTime": {
     "start_time": "2023-04-18T15:44:47.528171Z",
     "end_time": "2023-04-18T15:44:48.782393Z"
    }
   },
   "outputs": [
    {
     "data": {
      "text/plain": "<Figure size 640x480 with 1 Axes>",
      "image/png": "[encoded data removed]"
     },
     "metadata": {},
     "output_type": "display_data"
    }
   ],
   "source": [
    "# visually showing the class imbalance\n",
    "personality_data[\"type\"].value_counts().plot(kind=\"bar\", color=\"#61BED6\")\n",
    "plt.show()"
   ]
  },
  {
   "cell_type": "code",
   "execution_count": 9,
   "metadata": {
    "ExecuteTime": {
     "start_time": "2023-04-18T15:44:48.787294Z",
     "end_time": "2023-04-18T15:44:48.921799Z"
    }
   },
   "outputs": [
    {
     "data": {
      "text/plain": "   type  is_Extrovert  is_Sensing  is_Thinking  is_Judging   \n0  INTJ             0           0            1           1  \\\n1  INTP             0           0            1           0   \n2  INFJ             0           0            0           1   \n3  INTP             0           0            1           0   \n4  INTJ             0           0            1           1   \n\n                                               posts  \n0  'Don’t peg your rate low, peg it high. An appe...  \n1  '...you get Kid Rock.|||Now it is. Plural: 2sh...  \n2  'To me it seems that Stoicism has been reduced...  \n3  'unBELIEVABLY based...same with physics|||yeah...  \n4  'Tbh, Ne doms are very fun chaotic people that...  ",
      "text/html": "<div>\n<style scoped>\n    .dataframe tbody tr th:only-of-type {\n        vertical-align: middle;\n    }\n\n    .dataframe tbody tr th {\n        vertical-align: top;\n    }\n\n    .dataframe thead th {\n        text-align: right;\n    }\n</style>\n<table border=\"1\" class=\"dataframe\">\n  <thead>\n    <tr style=\"text-align: right;\">\n      <th></th>\n      <th>type</th>\n      <th>is_Extrovert</th>\n      <th>is_Sensing</th>\n      <th>is_Thinking</th>\n      <th>is_Judging</th>\n      <th>posts</th>\n    </tr>\n  </thead>\n  <tbody>\n    <tr>\n      <th>0</th>\n      <td>INTJ</td>\n      <td>0</td>\n      <td>0</td>\n      <td>1</td>\n      <td>1</td>\n      <td>'Don’t peg your rate low, peg it high. An appe...</td>\n    </tr>\n    <tr>\n      <th>1</th>\n      <td>INTP</td>\n      <td>0</td>\n      <td>0</td>\n      <td>1</td>\n      <td>0</td>\n      <td>'...you get Kid Rock.|||Now it is. Plural: 2sh...</td>\n    </tr>\n    <tr>\n      <th>2</th>\n      <td>INFJ</td>\n      <td>0</td>\n      <td>0</td>\n      <td>0</td>\n      <td>1</td>\n      <td>'To me it seems that Stoicism has been reduced...</td>\n    </tr>\n    <tr>\n      <th>3</th>\n      <td>INTP</td>\n      <td>0</td>\n      <td>0</td>\n      <td>1</td>\n      <td>0</td>\n      <td>'unBELIEVABLY based...same with physics|||yeah...</td>\n    </tr>\n    <tr>\n      <th>4</th>\n      <td>INTJ</td>\n      <td>0</td>\n      <td>0</td>\n      <td>1</td>\n      <td>1</td>\n      <td>'Tbh, Ne doms are very fun chaotic people that...</td>\n    </tr>\n  </tbody>\n</table>\n</div>"
     },
     "execution_count": 9,
     "metadata": {},
     "output_type": "execute_result"
    }
   ],
   "source": [
    "# to handle the class imbalance better, converting the 16 classes into 4 more balanced classes\n",
    "\n",
    "personality_data[\"is_Extrovert\"] = personality_data[\"type\"].apply(\n",
    "    lambda x: 1 if x[0] == \"E\" else 0\n",
    ")\n",
    "personality_data[\"is_Sensing\"] = personality_data[\"type\"].apply(\n",
    "    lambda x: 1 if x[1] == \"S\" else 0\n",
    ")\n",
    "personality_data[\"is_Thinking\"] = personality_data[\"type\"].apply(\n",
    "    lambda x: 1 if x[2] == \"T\" else 0\n",
    ")\n",
    "personality_data[\"is_Judging\"] = personality_data[\"type\"].apply(\n",
    "    lambda x: 1 if x[3] == \"J\" else 0\n",
    ")\n",
    "\n",
    "# rearranging the dataframe columns\n",
    "personality_data = personality_data[\n",
    "    [\"type\", \"is_Extrovert\", \"is_Sensing\", \"is_Thinking\", \"is_Judging\", \"posts\"]\n",
    "]\n",
    "personality_data.head()"
   ]
  },
  {
   "cell_type": "markdown",
   "metadata": {},
   "source": [
    "### Note:\n",
    "\n",
    "* Extroversion vs. Introversion\n",
    "    * I - 0\n",
    "    * E - 1 \n",
    "    \n",
    "* Sensing vs. Intuition \n",
    "    * N - 0 \n",
    "    * S - 1\n",
    "    \n",
    "* Thinking vs. Feeling\n",
    "    * F - 0\n",
    "    * T - 1\n",
    "    \n",
    "* Judging vs. Perceiving\n",
    "    * P - 0\n",
    "    * J - 1 "
   ]
  },
  {
   "cell_type": "code",
   "execution_count": 10,
   "metadata": {
    "ExecuteTime": {
     "start_time": "2023-04-18T15:44:48.813126Z",
     "end_time": "2023-04-18T15:44:48.921799Z"
    }
   },
   "outputs": [],
   "source": [
    "# checking individual counts\n",
    "introvert_count = personality_data[\"is_Extrovert\"].value_counts()[0]\n",
    "extrovert_count = personality_data[\"is_Extrovert\"].value_counts()[1]\n",
    "\n",
    "intuition_count = personality_data[\"is_Sensing\"].value_counts()[0]\n",
    "sensing_count = personality_data[\"is_Sensing\"].value_counts()[1]\n",
    "\n",
    "feeling_count = personality_data[\"is_Thinking\"].value_counts()[0]\n",
    "thinking_count = personality_data[\"is_Thinking\"].value_counts()[1]\n",
    "\n",
    "perceiving_count = personality_data[\"is_Judging\"].value_counts()[0]\n",
    "judging_count = personality_data[\"is_Judging\"].value_counts()[1]"
   ]
  },
  {
   "cell_type": "code",
   "execution_count": 11,
   "metadata": {
    "ExecuteTime": {
     "start_time": "2023-04-18T15:44:48.830326Z",
     "end_time": "2023-04-18T15:44:48.921799Z"
    }
   },
   "outputs": [
    {
     "name": "stdout",
     "output_type": "stream",
     "text": [
      "Introvert Count: 2488\n",
      "Extrovert Count: 1445\n",
      "Intuition Count: 2814\n",
      "Sensing Count: 1119\n",
      "Feeling Count: 1678\n",
      "Thinking Count: 2255\n",
      "Perceiving Count: 2263\n",
      "Judging Count: 1670\n"
     ]
    }
   ],
   "source": [
    "# printing all the counts\n",
    "print(f\"Introvert Count: {introvert_count}\")\n",
    "print(f\"Extrovert Count: {extrovert_count}\")\n",
    "print(f\"Intuition Count: {intuition_count}\")\n",
    "print(f\"Sensing Count: {sensing_count}\")\n",
    "print(f\"Feeling Count: {feeling_count}\")\n",
    "print(f\"Thinking Count: {thinking_count}\")\n",
    "print(f\"Perceiving Count: {perceiving_count}\")\n",
    "print(f\"Judging Count: {judging_count}\")"
   ]
  },
  {
   "cell_type": "code",
   "execution_count": 12,
   "metadata": {
    "ExecuteTime": {
     "start_time": "2023-04-18T15:44:48.841578Z",
     "end_time": "2023-04-18T15:44:49.421487Z"
    }
   },
   "outputs": [
    {
     "data": {
      "text/plain": "<Figure size 640x480 with 1 Axes>",
      "image/png": "[encoded data removed]"
     },
     "metadata": {},
     "output_type": "display_data"
    }
   ],
   "source": [
    "sns.countplot(\n",
    "    x=\"variable\",\n",
    "    hue=\"value\",\n",
    "    data=pd.melt(\n",
    "        personality_data[[\"is_Extrovert\", \"is_Sensing\", \"is_Thinking\", \"is_Judging\"]]\n",
    "    ),\n",
    "    palette=[\"#61BED6\", \"#A386B4\"],\n",
    ")\n",
    "\n",
    "plt.show()"
   ]
  },
  {
   "cell_type": "markdown",
   "metadata": {},
   "source": [
    "The class imbalance issue still seem to exist but we will proceed with this for now. "
   ]
  },
  {
   "cell_type": "markdown",
   "metadata": {},
   "source": [
    "#### Checking for the presence of correlations"
   ]
  },
  {
   "cell_type": "code",
   "execution_count": 13,
   "metadata": {
    "ExecuteTime": {
     "start_time": "2023-04-18T15:44:49.370550Z",
     "end_time": "2023-04-18T15:44:49.592196Z"
    }
   },
   "outputs": [
    {
     "data": {
      "text/plain": "<pandas.io.formats.style.Styler at 0x186b87fd250>",
      "text/html": "<style type=\"text/css\">\n#T_977de_row0_col0, #T_977de_row1_col1, #T_977de_row2_col2, #T_977de_row3_col3 {\n  background-color: #08306b;\n  color: #f1f1f1;\n}\n#T_977de_row0_col1, #T_977de_row0_col2, #T_977de_row0_col3, #T_977de_row1_col0 {\n  background-color: #f7fbff;\n  color: #000000;\n}\n#T_977de_row1_col2 {\n  background-color: #eef5fc;\n  color: #000000;\n}\n#T_977de_row1_col3, #T_977de_row3_col0 {\n  background-color: #f3f8fe;\n  color: #000000;\n}\n#T_977de_row2_col0 {\n  background-color: #e7f0fa;\n  color: #000000;\n}\n#T_977de_row2_col1 {\n  background-color: #dfebf7;\n  color: #000000;\n}\n#T_977de_row2_col3 {\n  background-color: #e3eef8;\n  color: #000000;\n}\n#T_977de_row3_col1, #T_977de_row3_col2 {\n  background-color: #eff6fc;\n  color: #000000;\n}\n</style>\n<table id=\"T_977de\">\n  <thead>\n    <tr>\n      <th class=\"blank level0\" >&nbsp;</th>\n      <th id=\"T_977de_level0_col0\" class=\"col_heading level0 col0\" >is_Extrovert</th>\n      <th id=\"T_977de_level0_col1\" class=\"col_heading level0 col1\" >is_Sensing</th>\n      <th id=\"T_977de_level0_col2\" class=\"col_heading level0 col2\" >is_Thinking</th>\n      <th id=\"T_977de_level0_col3\" class=\"col_heading level0 col3\" >is_Judging</th>\n    </tr>\n  </thead>\n  <tbody>\n    <tr>\n      <th id=\"T_977de_level0_row0\" class=\"row_heading level0 row0\" >is_Extrovert</th>\n      <td id=\"T_977de_row0_col0\" class=\"data row0 col0\" >1.000000</td>\n      <td id=\"T_977de_row0_col1\" class=\"data row0 col1\" >-0.087816</td>\n      <td id=\"T_977de_row0_col2\" class=\"data row0 col2\" >0.001604</td>\n      <td id=\"T_977de_row0_col3\" class=\"data row0 col3\" >-0.064623</td>\n    </tr>\n    <tr>\n      <th id=\"T_977de_level0_row1\" class=\"row_heading level0 row1\" >is_Sensing</th>\n      <td id=\"T_977de_row1_col0\" class=\"data row1 col0\" >-0.087816</td>\n      <td id=\"T_977de_row1_col1\" class=\"data row1 col1\" >1.000000</td>\n      <td id=\"T_977de_row1_col2\" class=\"data row1 col2\" >0.044912</td>\n      <td id=\"T_977de_row1_col3\" class=\"data row1 col3\" >-0.043485</td>\n    </tr>\n    <tr>\n      <th id=\"T_977de_level0_row2\" class=\"row_heading level0 row2\" >is_Thinking</th>\n      <td id=\"T_977de_row2_col0\" class=\"data row2 col0\" >0.001604</td>\n      <td id=\"T_977de_row2_col1\" class=\"data row2 col1\" >0.044912</td>\n      <td id=\"T_977de_row2_col2\" class=\"data row2 col2\" >1.000000</td>\n      <td id=\"T_977de_row2_col3\" class=\"data row2 col3\" >0.044201</td>\n    </tr>\n    <tr>\n      <th id=\"T_977de_level0_row3\" class=\"row_heading level0 row3\" >is_Judging</th>\n      <td id=\"T_977de_row3_col0\" class=\"data row3 col0\" >-0.064623</td>\n      <td id=\"T_977de_row3_col1\" class=\"data row3 col1\" >-0.043485</td>\n      <td id=\"T_977de_row3_col2\" class=\"data row3 col2\" >0.044201</td>\n      <td id=\"T_977de_row3_col3\" class=\"data row3 col3\" >1.000000</td>\n    </tr>\n  </tbody>\n</table>\n"
     },
     "execution_count": 13,
     "metadata": {},
     "output_type": "execute_result"
    }
   ],
   "source": [
    "corr = personality_data[\n",
    "    [\"is_Extrovert\", \"is_Sensing\", \"is_Thinking\", \"is_Judging\"]\n",
    "].corr()\n",
    "corr.style.background_gradient(cmap=\"Blues\")"
   ]
  },
  {
   "cell_type": "markdown",
   "metadata": {},
   "source": [
    "There does not seem to be any strong correlation between the four personality dimenions."
   ]
  },
  {
   "cell_type": "markdown",
   "metadata": {},
   "source": [
    "### Feature Engineering - I"
   ]
  },
  {
   "cell_type": "markdown",
   "metadata": {},
   "source": [
    "#### Data Cleaning"
   ]
  },
  {
   "cell_type": "code",
   "execution_count": 14,
   "metadata": {
    "ExecuteTime": {
     "start_time": "2023-04-18T15:44:51.799453Z",
     "end_time": "2023-04-18T15:45:20.239820Z"
    }
   },
   "outputs": [],
   "source": [
    "# converting posts into lower case\n",
    "personality_data[\"clean_posts\"] = personality_data[\"posts\"].str.lower()\n",
    "\n",
    "# replacing ||| with space\n",
    "personality_data[\"clean_posts\"] = personality_data[\"clean_posts\"].str.replace(\n",
    "    re.compile(r\"\\|\\|\\|\"), \" \", regex=True\n",
    ")\n",
    "\n",
    "personality_data[\"clean_posts\"] = personality_data[\"clean_posts\"].str.replace(\n",
    "    re.compile(r\"https?:\\/\\/(www)?.?([A-Za-z_0-9-]+)([\\S])*\"), \"\", regex=True\n",
    ")\n",
    "\n",
    "# dropping emails\n",
    "personality_data[\"clean_posts\"] = personality_data[\"clean_posts\"].str.replace(\n",
    "    re.compile(r\"\\S+@\\S+\"), \"\", regex=True\n",
    ")\n",
    "\n",
    "# dropping punctuations\n",
    "personality_data[\"clean_posts\"] = personality_data[\"clean_posts\"].str.replace(\n",
    "    re.compile(r\"[^a-z\\s]\"), \" \", regex=True\n",
    ")\n",
    "\n",
    "# dropping MBTIs mentioned in the posts. There are quite a few mention of these types in these posts.\n",
    "mbti = personality_data[\"type\"].unique()\n",
    "for type_word in mbti:\n",
    "    personality_data[\"clean_posts\"] = personality_data[\"clean_posts\"].str.replace(\n",
    "        type_word.lower(), \"\", regex=True\n",
    "    )"
   ]
  },
  {
   "cell_type": "code",
   "execution_count": 15,
   "metadata": {
    "ExecuteTime": {
     "start_time": "2023-04-18T15:45:20.254746Z",
     "end_time": "2023-04-18T15:45:20.390360Z"
    }
   },
   "outputs": [
    {
     "data": {
      "text/plain": "   type  is_Extrovert  is_Sensing  is_Thinking  is_Judging   \n0  INTJ             0           0            1           1  \\\n1  INTP             0           0            1           0   \n2  INFJ             0           0            0           1   \n3  INTP             0           0            1           0   \n4  INTJ             0           0            1           1   \n\n                                               posts   \n0  'Don’t peg your rate low, peg it high. An appe...  \\\n1  '...you get Kid Rock.|||Now it is. Plural: 2sh...   \n2  'To me it seems that Stoicism has been reduced...   \n3  'unBELIEVABLY based...same with physics|||yeah...   \n4  'Tbh, Ne doms are very fun chaotic people that...   \n\n                                         clean_posts  \n0   don t peg your rate low  peg it high  an appe...  \n1      you get kid rock  now it is  plural   shie...  \n2   to me it seems that stoicism has been reduced...  \n3   unbelievably based   same with physics yeah i...  \n4   tbh  ne doms are very fun chaotic people that...  ",
      "text/html": "<div>\n<style scoped>\n    .dataframe tbody tr th:only-of-type {\n        vertical-align: middle;\n    }\n\n    .dataframe tbody tr th {\n        vertical-align: top;\n    }\n\n    .dataframe thead th {\n        text-align: right;\n    }\n</style>\n<table border=\"1\" class=\"dataframe\">\n  <thead>\n    <tr style=\"text-align: right;\">\n      <th></th>\n      <th>type</th>\n      <th>is_Extrovert</th>\n      <th>is_Sensing</th>\n      <th>is_Thinking</th>\n      <th>is_Judging</th>\n      <th>posts</th>\n      <th>clean_posts</th>\n    </tr>\n  </thead>\n  <tbody>\n    <tr>\n      <th>0</th>\n      <td>INTJ</td>\n      <td>0</td>\n      <td>0</td>\n      <td>1</td>\n      <td>1</td>\n      <td>'Don’t peg your rate low, peg it high. An appe...</td>\n      <td>don t peg your rate low  peg it high  an appe...</td>\n    </tr>\n    <tr>\n      <th>1</th>\n      <td>INTP</td>\n      <td>0</td>\n      <td>0</td>\n      <td>1</td>\n      <td>0</td>\n      <td>'...you get Kid Rock.|||Now it is. Plural: 2sh...</td>\n      <td>you get kid rock  now it is  plural   shie...</td>\n    </tr>\n    <tr>\n      <th>2</th>\n      <td>INFJ</td>\n      <td>0</td>\n      <td>0</td>\n      <td>0</td>\n      <td>1</td>\n      <td>'To me it seems that Stoicism has been reduced...</td>\n      <td>to me it seems that stoicism has been reduced...</td>\n    </tr>\n    <tr>\n      <th>3</th>\n      <td>INTP</td>\n      <td>0</td>\n      <td>0</td>\n      <td>1</td>\n      <td>0</td>\n      <td>'unBELIEVABLY based...same with physics|||yeah...</td>\n      <td>unbelievably based   same with physics yeah i...</td>\n    </tr>\n    <tr>\n      <th>4</th>\n      <td>INTJ</td>\n      <td>0</td>\n      <td>0</td>\n      <td>1</td>\n      <td>1</td>\n      <td>'Tbh, Ne doms are very fun chaotic people that...</td>\n      <td>tbh  ne doms are very fun chaotic people that...</td>\n    </tr>\n  </tbody>\n</table>\n</div>"
     },
     "execution_count": 15,
     "metadata": {},
     "output_type": "execute_result"
    }
   ],
   "source": [
    "personality_data.head()"
   ]
  },
  {
   "cell_type": "markdown",
   "metadata": {},
   "source": [
    "#### Lemmitizing\n",
    "\n",
    "* CAUTION - This will take long to run!!"
   ]
  },
  {
   "cell_type": "code",
   "execution_count": 16,
   "metadata": {
    "ExecuteTime": {
     "start_time": "2023-04-18T15:45:20.983853Z",
     "end_time": "2023-04-18T17:14:28.084335Z"
    }
   },
   "outputs": [
    {
     "name": "stdout",
     "output_type": "stream",
     "text": [
      "Lemmitizing Time: 5346.957702159882 seconds\n"
     ]
    }
   ],
   "source": [
    "# lemmitizing (excluding stop words in this step)\n",
    "\n",
    "t = time.time()\n",
    "\n",
    "lemmatizer = WordNetLemmatizer()\n",
    "\n",
    "personality_data[\"clean_posts\"] = personality_data[\"clean_posts\"].apply(\n",
    "    lambda x: \" \".join(\n",
    "        [\n",
    "            lemmatizer.lemmatize(word)\n",
    "            for word in x.split(\" \")\n",
    "            if word not in stopwords.words(\"english\")\n",
    "        ]\n",
    "    )\n",
    ")\n",
    "\n",
    "print(f\"Lemmitizing Time: {time.time() - t} seconds\")"
   ]
  },
  {
   "cell_type": "markdown",
   "metadata": {},
   "source": [
    "#### Removing words that are 1 to 2 characters long"
   ]
  },
  {
   "cell_type": "code",
   "execution_count": 17,
   "metadata": {
    "ExecuteTime": {
     "start_time": "2023-04-18T17:14:28.114199Z",
     "end_time": "2023-04-18T17:14:31.312761Z"
    }
   },
   "outputs": [],
   "source": [
    "personality_data[\"clean_posts\"] = personality_data[\"clean_posts\"].str.replace(\n",
    "    re.compile(r\"\\b\\w{1,2}\\b\"), \"\", regex=True\n",
    ")"
   ]
  },
  {
   "cell_type": "code",
   "execution_count": 18,
   "metadata": {
    "ExecuteTime": {
     "start_time": "2023-04-18T17:14:31.333456Z",
     "end_time": "2023-04-18T17:14:31.341859Z"
    }
   },
   "outputs": [
    {
     "data": {
      "text/plain": "   type  is_Extrovert  is_Sensing  is_Thinking  is_Judging   \n0  INTJ             0           0            1           1  \\\n1  INTP             0           0            1           0   \n2  INFJ             0           0            0           1   \n3  INTP             0           0            1           0   \n4  INTJ             0           0            1           1   \n\n                                               posts   \n0  'Don’t peg your rate low, peg it high. An appe...  \\\n1  '...you get Kid Rock.|||Now it is. Plural: 2sh...   \n2  'To me it seems that Stoicism has been reduced...   \n3  'unBELIEVABLY based...same with physics|||yeah...   \n4  'Tbh, Ne doms are very fun chaotic people that...   \n\n                                         clean_posts  \n0   peg rate low  peg high  appeal expertise want...  \n1      get kid rock   plural   shy happened skim ...  \n2   seems stoicism reduced colloquial usage  beco...  \n3   unbelievably based   physic yeah got material...  \n4   tbh   doms fun chaotic people talk hour   mig...  ",
      "text/html": "<div>\n<style scoped>\n    .dataframe tbody tr th:only-of-type {\n        vertical-align: middle;\n    }\n\n    .dataframe tbody tr th {\n        vertical-align: top;\n    }\n\n    .dataframe thead th {\n        text-align: right;\n    }\n</style>\n<table border=\"1\" class=\"dataframe\">\n  <thead>\n    <tr style=\"text-align: right;\">\n      <th></th>\n      <th>type</th>\n      <th>is_Extrovert</th>\n      <th>is_Sensing</th>\n      <th>is_Thinking</th>\n      <th>is_Judging</th>\n      <th>posts</th>\n      <th>clean_posts</th>\n    </tr>\n  </thead>\n  <tbody>\n    <tr>\n      <th>0</th>\n      <td>INTJ</td>\n      <td>0</td>\n      <td>0</td>\n      <td>1</td>\n      <td>1</td>\n      <td>'Don’t peg your rate low, peg it high. An appe...</td>\n      <td>peg rate low  peg high  appeal expertise want...</td>\n    </tr>\n    <tr>\n      <th>1</th>\n      <td>INTP</td>\n      <td>0</td>\n      <td>0</td>\n      <td>1</td>\n      <td>0</td>\n      <td>'...you get Kid Rock.|||Now it is. Plural: 2sh...</td>\n      <td>get kid rock   plural   shy happened skim ...</td>\n    </tr>\n    <tr>\n      <th>2</th>\n      <td>INFJ</td>\n      <td>0</td>\n      <td>0</td>\n      <td>0</td>\n      <td>1</td>\n      <td>'To me it seems that Stoicism has been reduced...</td>\n      <td>seems stoicism reduced colloquial usage  beco...</td>\n    </tr>\n    <tr>\n      <th>3</th>\n      <td>INTP</td>\n      <td>0</td>\n      <td>0</td>\n      <td>1</td>\n      <td>0</td>\n      <td>'unBELIEVABLY based...same with physics|||yeah...</td>\n      <td>unbelievably based   physic yeah got material...</td>\n    </tr>\n    <tr>\n      <th>4</th>\n      <td>INTJ</td>\n      <td>0</td>\n      <td>0</td>\n      <td>1</td>\n      <td>1</td>\n      <td>'Tbh, Ne doms are very fun chaotic people that...</td>\n      <td>tbh   doms fun chaotic people talk hour   mig...</td>\n    </tr>\n  </tbody>\n</table>\n</div>"
     },
     "execution_count": 18,
     "metadata": {},
     "output_type": "execute_result"
    }
   ],
   "source": [
    "# checking the cleaned and lemmitized data\n",
    "personality_data.head()"
   ]
  },
  {
   "cell_type": "code",
   "execution_count": 19,
   "metadata": {
    "ExecuteTime": {
     "start_time": "2023-04-18T17:14:31.344888Z",
     "end_time": "2023-04-18T17:14:31.459318Z"
    }
   },
   "outputs": [
    {
     "data": {
      "text/plain": "(3933, 7)"
     },
     "execution_count": 19,
     "metadata": {},
     "output_type": "execute_result"
    }
   ],
   "source": [
    "personality_data.shape"
   ]
  },
  {
   "cell_type": "code",
   "execution_count": 20,
   "metadata": {
    "ExecuteTime": {
     "start_time": "2023-04-18T17:14:31.418008Z",
     "end_time": "2023-04-18T17:14:38.027013Z"
    }
   },
   "outputs": [],
   "source": [
    "# lemmitizing took long. So saving the clean and lemmitized file to save time in further processing.\n",
    "personality_data.to_csv(os.path.join(\"..\", \"data\", \"clean_data_1.csv\"), index=False)"
   ]
  },
  {
   "cell_type": "code",
   "execution_count": 20,
   "metadata": {
    "ExecuteTime": {
     "start_time": "2023-04-18T17:14:38.028972Z",
     "end_time": "2023-04-18T17:14:38.031487Z"
    }
   },
   "outputs": [],
   "source": []
  },
  {
   "cell_type": "code",
   "execution_count": 20,
   "outputs": [],
   "source": [],
   "metadata": {
    "collapsed": false,
    "ExecuteTime": {
     "start_time": "2023-04-18T17:14:38.034001Z",
     "end_time": "2023-04-18T17:14:38.040552Z"
    }
   }
  }
 ],
 "metadata": {
  "kernelspec": {
   "display_name": "Python 3 (ipykernel)",
   "language": "python",
   "name": "python3"
  },
  "language_info": {
   "codemirror_mode": {
    "name": "ipython",
    "version": 3
   },
   "file_extension": ".py",
   "mimetype": "text/x-python",
   "name": "python",
   "nbconvert_exporter": "python",
   "pygments_lexer": "ipython3",
   "version": "3.10.4"
  }
 },
 "nbformat": 4,
 "nbformat_minor": 4
}
